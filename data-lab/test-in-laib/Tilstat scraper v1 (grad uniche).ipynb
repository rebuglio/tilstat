{
 "cells": [
  {
   "cell_type": "markdown",
   "id": "5216cb9f",
   "metadata": {},
   "source": [
    "# ~ TilStat scraper ~\n",
    "\n",
    "Utility to scrape the scores to enter the various courses over the years. Like any scraping utility, this code sucks."
   ]
  },
  {
   "cell_type": "code",
   "execution_count": 57,
   "id": "39a438cc",
   "metadata": {
    "ExecuteTime": {
     "end_time": "2025-04-23T01:31:21.877546700Z",
     "start_time": "2025-04-23T01:31:21.793923900Z"
    }
   },
   "outputs": [],
   "source": [
    "import requests\n",
    "from bs4 import BeautifulSoup as bs\n",
    "from multiprocessing import Pool\n",
    "import pandas as pd\n",
    "import numpy as np"
   ]
  },
  {
   "cell_type": "code",
   "execution_count": 58,
   "id": "b6fac57b",
   "metadata": {
    "ExecuteTime": {
     "end_time": "2025-04-23T01:31:21.880575300Z",
     "start_time": "2025-04-23T01:31:21.797978800Z"
    }
   },
   "outputs": [],
   "source": [
    "from datetime import datetime"
   ]
  },
  {
   "cell_type": "code",
   "execution_count": 59,
   "id": "e4226dbe",
   "metadata": {
    "ExecuteTime": {
     "end_time": "2025-04-23T01:31:21.881537400Z",
     "start_time": "2025-04-23T01:31:21.805854700Z"
    }
   },
   "outputs": [],
   "source": [
    "base = 'http://didattica.polito.it'"
   ]
  },
  {
   "cell_type": "code",
   "execution_count": 60,
   "id": "8d237af4",
   "metadata": {
    "ExecuteTime": {
     "end_time": "2025-04-23T01:31:21.898536Z",
     "start_time": "2025-04-23T01:31:21.813023800Z"
    }
   },
   "outputs": [],
   "source": [
    "indexes = []\n",
    "\n",
    "for year in [2018,2019,2020,2021,2022,2023,2024,2025]:\n",
    "    indexes += [\n",
    "        {'uri':f'{base}/pls/portal30/preimma.pkg_grad.arc?p_a_acc={year}',\n",
    "         'is_contingentato': False, 'course': 'Architettura', 'year':year, 'til_kind': 'TIL-A'},\n",
    "        # {'uri':f'{base}/pls/portal30/preimma.pkg_grad.arc_conting?p_a_acc={year}',\n",
    "        #  'conting': True, 'course': 'Architettura', 'year':year},\n",
    "\n",
    "        {'uri':f'{base}/pls/portal30/preimma.pkg_grad.des?p_a_acc={year}',\n",
    "         'is_contingentato': False, 'course': 'Design', 'year':year, 'til_kind': 'TIL-D'},\n",
    "        # {'uri':f'{base}/pls/portal30/preimma.pkg_grad.des_cont?p_a_acc={year}',\n",
    "        #  'conting': True, 'course': 'Design', 'year':year},\n",
    "\n",
    "        {'uri':f'{base}/pls/portal30/preimma.pkg_grad.pian?p_a_acc={year}',\n",
    "         'is_contingentato': False, 'course': 'Pianificazione', 'year':year, 'til_kind': 'TIL-P'},\n",
    "        # {'uri':f'{base}/pls/portal30/preimma.pkg_grad.pian_cont?p_a_acc={year}',\n",
    "        #  'conting': True, 'course': 'Pianificazione', 'year':year}, \n",
    "    ]\n",
    "    \n",
    "\n",
    "for year in [2018,2019,2020,2021]:\n",
    "    indexes += [\n",
    "        {'uri':f'{base}/pls/portal30/preimma.pkg_grad.ing?p_a_acc={year}',\n",
    "         'is_contingentato': False, 'course': 'Ingegneria', 'year':year, 'til_kind': 'TIL-I'},\n",
    "        # {'uri':f'{base}/pls/portal30/preimma.pkg_grad.ing_cont?p_a_acc={year}',\n",
    "        #  'conting': True, 'course': 'Ingegneria', 'year':year},\n",
    "    ]"
   ]
  },
  {
   "cell_type": "code",
   "execution_count": 61,
   "id": "faa78c43",
   "metadata": {
    "ExecuteTime": {
     "end_time": "2025-04-23T01:31:29.013279200Z",
     "start_time": "2025-04-23T01:31:21.847535500Z"
    }
   },
   "outputs": [],
   "source": [
    "fogli_graduatorie = []\n",
    "for index in indexes:\n",
    "    html = requests.get(index['uri']).text\n",
    "    soup = bs(html, 'html.parser')\n",
    "    ranklinks = [link for link in soup.find_all(\"a\")\n",
    "                     if \"href\" in link.attrs and 'preimma' in link['href'] and link.text.startswith('Graduatoria del ')]\n",
    "    \n",
    "    for i, link in enumerate(ranklinks):\n",
    "        \n",
    "        # paranoid check\n",
    "        # Es: Ingegneria has .ing string in each rank\n",
    "        assert f\".{index['course'].lower()[:3]}\" in link['href'], \"Wrong link assoc...\"\n",
    "        \n",
    "        date = [int(x) for x in link.text.replace(\"Graduatoria del \",\"\").split('/')]\n",
    "        date = datetime(date[2],date[1],date[0])\n",
    "        \n",
    "        # paranoid check\n",
    "        first_sane_rank = datetime(int(index['year'])-1, 7, 1) # dal primo luglio del primo anno di inizio coorte\n",
    "        last_sane_rank = datetime(int(index['year']), 3, 15) # a metà marzo del secondo anno di inizio coorte\n",
    "        assert first_sane_rank < date < last_sane_rank, \"Wrong year assoc...\"\n",
    "        \n",
    "        fogli_graduatorie.append({\n",
    "            'grad_url': base+link['href'],\n",
    "            'til_kind': index['til_kind'],\n",
    "            'course': index['course'],\n",
    "            'is_contingentato': index['is_contingentato'],\n",
    "            'grad_n': i,\n",
    "            'date': date,\n",
    "            'year': index['year']\n",
    "        })"
   ]
  },
  {
   "cell_type": "code",
   "execution_count": 62,
   "id": "2123528f",
   "metadata": {
    "ExecuteTime": {
     "end_time": "2025-04-23T01:31:29.024235100Z",
     "start_time": "2025-04-23T01:31:29.019223900Z"
    }
   },
   "outputs": [],
   "source": [
    "x=0\n",
    "def scrapeGraduatoria(rank):\n",
    "    global x\n",
    "    x+=1\n",
    "    print(x)\n",
    "    \n",
    "    html = requests.get(rank['grad_url']).text\n",
    "    soup = bs(html, 'html.parser')\n",
    "    \n",
    "    headers = soup.select(\"table th\")\n",
    "    rows = soup.select(\"table tr\")\n",
    "    cells = soup.select(\"table td\")\n",
    "\n",
    "    # paranoid check\n",
    "    assert len(headers)*(len(rows)-1) == len(cells), \"Wrong table format\"\n",
    "\n",
    "    headervalues = [str(h.text.lower().strip()) for h in headers]\n",
    "    values = [str(c.text.strip()) for c in cells]\n",
    "    shapedvalues = np.asarray(values).reshape((len(rows)-1),len(headers)).astype(str)\n",
    "    df = pd.DataFrame(shapedvalues, columns=headervalues)\n",
    "\n",
    "    df = df[df['totale'] != \"Certificazione Internazionale\"]\n",
    "    df[\"totale\"] = df[\"totale\"].str.replace(',','.').astype(float)\n",
    "    \n",
    "    df['grad_url'] = rank['grad_url']\n",
    "    df['course'] = rank['course']\n",
    "    df['year'] = rank['year']\n",
    "    df['grad_n'] = rank['grad_n'] # ennesima graduatoria nell'anno\n",
    "    df['date'] = rank['date']\n",
    "    df['is_contingentato'] = rank['is_contingentato']\n",
    "\n",
    "    # riordino df\n",
    "    order = ['grad_url', 'course', 'year', 'grad_n', 'date', 'is_contingentato']\n",
    "    df = df[order + [c for c in df.columns if c not in order]]\n",
    "\n",
    "    return df"
   ]
  },
  {
   "cell_type": "code",
   "execution_count": 63,
   "id": "b785d190",
   "metadata": {
    "ExecuteTime": {
     "end_time": "2025-04-23T01:31:29.030183500Z",
     "start_time": "2025-04-23T01:31:29.022233100Z"
    }
   },
   "outputs": [
    {
     "data": {
      "text/plain": "211"
     },
     "execution_count": 63,
     "metadata": {},
     "output_type": "execute_result"
    }
   ],
   "source": [
    "len(fogli_graduatorie)"
   ]
  },
  {
   "cell_type": "code",
   "execution_count": 64,
   "id": "9928ddec",
   "metadata": {
    "ExecuteTime": {
     "end_time": "2025-04-23T01:37:23.071438900Z",
     "start_time": "2025-04-23T01:31:29.031182400Z"
    }
   },
   "outputs": [
    {
     "name": "stdout",
     "output_type": "stream",
     "text": [
      "1\n",
      "2\n",
      "3\n",
      "4\n",
      "5\n",
      "6\n",
      "7\n",
      "8\n",
      "9\n",
      "10\n",
      "11\n",
      "12\n",
      "13\n",
      "14\n",
      "15\n",
      "16\n",
      "17\n",
      "18\n",
      "19\n",
      "20\n",
      "21\n",
      "22\n",
      "23\n",
      "24\n",
      "25\n",
      "26\n",
      "27\n",
      "28\n",
      "29\n",
      "30\n",
      "31\n",
      "32\n",
      "33\n",
      "34\n",
      "35\n",
      "36\n",
      "37\n",
      "38\n",
      "39\n",
      "40\n",
      "41\n",
      "42\n",
      "43\n",
      "44\n",
      "45\n",
      "46\n",
      "47\n",
      "48\n",
      "49\n",
      "50\n",
      "51\n",
      "52\n",
      "53\n",
      "54\n",
      "55\n",
      "56\n",
      "57\n",
      "58\n",
      "59\n",
      "60\n",
      "61\n",
      "62\n",
      "63\n",
      "64\n",
      "65\n",
      "66\n",
      "67\n",
      "68\n",
      "69\n",
      "70\n",
      "71\n",
      "72\n",
      "73\n",
      "74\n",
      "75\n",
      "76\n",
      "77\n",
      "78\n",
      "79\n",
      "80\n",
      "81\n",
      "82\n",
      "83\n",
      "84\n",
      "85\n",
      "86\n",
      "87\n",
      "88\n",
      "89\n",
      "90\n",
      "91\n",
      "92\n",
      "93\n",
      "94\n",
      "95\n",
      "96\n",
      "97\n",
      "98\n",
      "99\n",
      "100\n",
      "101\n",
      "102\n",
      "103\n",
      "104\n",
      "105\n",
      "106\n",
      "107\n",
      "108\n",
      "109\n",
      "110\n",
      "111\n",
      "112\n",
      "113\n",
      "114\n",
      "115\n",
      "116\n",
      "117\n",
      "118\n",
      "119\n",
      "120\n",
      "121\n",
      "122\n",
      "123\n",
      "124\n",
      "125\n",
      "126\n",
      "127\n",
      "128\n",
      "129\n",
      "130\n",
      "131\n",
      "132\n",
      "133\n",
      "134\n",
      "135\n",
      "136\n",
      "137\n",
      "138\n",
      "139\n",
      "140\n",
      "141\n",
      "142\n",
      "143\n",
      "144\n",
      "145\n",
      "146\n",
      "147\n",
      "148\n",
      "149\n",
      "150\n",
      "151\n",
      "152\n",
      "153\n",
      "154\n",
      "155\n",
      "156\n",
      "157\n",
      "158\n",
      "159\n",
      "160\n",
      "161\n",
      "162\n",
      "163\n",
      "164\n",
      "165\n",
      "166\n",
      "167\n",
      "168\n",
      "169\n",
      "170\n",
      "171\n",
      "172\n",
      "173\n",
      "174\n",
      "175\n",
      "176\n",
      "177\n",
      "178\n",
      "179\n",
      "180\n",
      "181\n",
      "182\n",
      "183\n",
      "184\n",
      "185\n",
      "186\n",
      "187\n",
      "188\n",
      "189\n",
      "190\n",
      "191\n",
      "192\n",
      "193\n",
      "194\n",
      "195\n",
      "196\n",
      "197\n",
      "198\n",
      "199\n",
      "200\n",
      "201\n",
      "202\n",
      "203\n",
      "204\n",
      "205\n",
      "206\n",
      "207\n",
      "208\n",
      "209\n",
      "210\n",
      "211\n"
     ]
    }
   ],
   "source": [
    "dfs = list(map(scrapeGraduatoria, fogli_graduatorie))"
   ]
  },
  {
   "cell_type": "code",
   "execution_count": 65,
   "id": "7421a618",
   "metadata": {
    "ExecuteTime": {
     "end_time": "2025-04-23T01:37:23.393740800Z",
     "start_time": "2025-04-23T01:37:23.074435700Z"
    }
   },
   "outputs": [],
   "source": [
    "result = pd.concat(dfs, ignore_index=True)"
   ]
  },
  {
   "cell_type": "code",
   "execution_count": 70,
   "outputs": [],
   "source": [
    "result[\"af user\"] = result[\"af user\"].fillna(result[\"user\"])\n",
    "result.drop(columns=[\"user\"], inplace=True)"
   ],
   "metadata": {
    "collapsed": false,
    "ExecuteTime": {
     "end_time": "2025-04-23T01:50:55.220884500Z",
     "start_time": "2025-04-23T01:50:55.057246700Z"
    }
   },
   "id": "bff737a5b073328"
  },
  {
   "cell_type": "code",
   "execution_count": 71,
   "id": "f867786a",
   "metadata": {
    "ExecuteTime": {
     "end_time": "2025-04-23T01:51:07.947230600Z",
     "start_time": "2025-04-23T01:51:04.882404600Z"
    }
   },
   "outputs": [],
   "source": [
    "result.to_csv(f\"./intermediate_results/v1_{str(datetime.now()).replace(':','-')}.csv\", sep=\";\")"
   ]
  },
  {
   "cell_type": "code",
   "execution_count": 66,
   "id": "a5e5e13d",
   "metadata": {
    "ExecuteTime": {
     "end_time": "2025-04-23T01:37:35.396742Z",
     "start_time": "2025-04-23T01:37:35.365164300Z"
    }
   },
   "outputs": [],
   "source": []
  }
 ],
 "metadata": {
  "kernelspec": {
   "display_name": "Python 3 (ipykernel)",
   "language": "python",
   "name": "python3"
  },
  "language_info": {
   "codemirror_mode": {
    "name": "ipython",
    "version": 3
   },
   "file_extension": ".py",
   "mimetype": "text/x-python",
   "name": "python",
   "nbconvert_exporter": "python",
   "pygments_lexer": "ipython3",
   "version": "3.8.6"
  }
 },
 "nbformat": 4,
 "nbformat_minor": 5
}
