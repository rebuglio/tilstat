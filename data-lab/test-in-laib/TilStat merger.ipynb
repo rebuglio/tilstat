{
 "cells": [
  {
   "cell_type": "code",
   "execution_count": 39,
   "id": "002bf6ba",
   "metadata": {
    "ExecuteTime": {
     "end_time": "2025-04-23T17:39:27.582628300Z",
     "start_time": "2025-04-23T17:39:27.482837600Z"
    }
   },
   "outputs": [],
   "source": [
    "import pandas as pd\n",
    "import sqlite3\n",
    "import json\n",
    "import os\n",
    "from glob import glob\n",
    "from datetime import datetime"
   ]
  },
  {
   "cell_type": "code",
   "execution_count": 40,
   "outputs": [
    {
     "name": "stdout",
     "output_type": "stream",
     "text": [
      "882991\n",
      "882837\n"
     ]
    }
   ],
   "source": [
    "files = [\n",
    "    \"./intermediate_results/v1_consolidato_2018_2025.csv\",\n",
    "    \"./intermediate_results/v2_consolidato_2022_2024.csv\",\n",
    "    \"./intermediate_results/v2b_consolidato_2025.csv\"\n",
    "]\n",
    "\n",
    "# Lettura e allineamento colonne\n",
    "dfs = [pd.read_csv(f, sep=\";\", low_memory=False) for f in files]\n",
    "all_cols = sorted(set().union(*(df.columns for df in dfs)))\n",
    "df = pd.concat([df.reindex(columns=all_cols) for df in dfs], ignore_index=True)\n",
    "\n",
    "# Rimuove l'indice salvato e applica il filtro\n",
    "print(len(df))\n",
    "df = df.loc[:, ~df.columns.str.startswith('Unnamed')]\n",
    "df = df[~((df['totale'] == 0) & (df['esito'] != 'NON AMMESSO'))]\n",
    "print(len(df))"
   ],
   "metadata": {
    "collapsed": false,
    "ExecuteTime": {
     "end_time": "2025-04-23T17:39:30.533898600Z",
     "start_time": "2025-04-23T17:39:27.487635200Z"
    }
   },
   "id": "d93f6bcd4c6aeec2"
  },
  {
   "cell_type": "code",
   "execution_count": 41,
   "outputs": [],
   "source": [
    "# df.to_csv(\"out.csv\", sep=\";\")"
   ],
   "metadata": {
    "collapsed": false,
    "ExecuteTime": {
     "end_time": "2025-04-23T17:39:36.219016500Z",
     "start_time": "2025-04-23T17:39:30.533898600Z"
    }
   },
   "id": "a44b7369a1e9694e"
  },
  {
   "cell_type": "code",
   "execution_count": 42,
   "outputs": [
    {
     "data": {
      "text/plain": "              code                                               name  \\\n0           CEE1T1          CIVIL AND ENVIRONMENTAL ENGINEERING (L-7)   \n1           ECE1T3  ELECTRONIC AND COMMUNICATIONS ENGINEERING (ING...   \n2           AER1T1                      INGEGNERIA AEROSPAZIALE (L-9)   \n3           BIO1T1                         INGEGNERIA BIOMEDICA (L-9)   \n4           CHI1T1              INGEGNERIA CHIMICA E ALIMENTARE (L-9)   \n5           CIV1T1                            INGEGNERIA CIVILE (L-7)   \n6           MAT1T1                     INGEGNERIA DEI MATERIALI (L-9)   \n7           CIN1T3  INGEGNERIA DEL CINEMA E DEI MEZZI DI COMUNICAZ...   \n8           AUT1T1  INGEGNERIA DELL'AUTOVEICOLO (L-9); INGEGNERIA ...   \n9           PRO1A1  INGEGNERIA DELLA PRODUZIONE INDUSTRIALE (L-9) ...   \n10          PRO1B1  INGEGNERIA DELLA PRODUZIONE INDUSTRIALE (L-9) ...   \n11          PRO1N1  INGEGNERIA DELLA PRODUZIONE INDUSTRIALE (L-9) ...   \n12          EDI1T1                            INGEGNERIA EDILE (L-23)   \n13          ELT1T1                         INGEGNERIA ELETTRICA (L-9)   \n14          ELN1T3                       INGEGNERIA ELETTRONICA (L-8)   \n15          ENE1T1                        INGEGNERIA ENERGETICA (L-9)   \n16          FIS1T3                            INGEGNERIA FISICA (L-8)   \n17          GES1T4  INGEGNERIA GESTIONALE (L-8); INGEGNERIA GESTIO...   \n18          INF1T3  INGEGNERIA INFORMATICA (L-8); INGEGNERIA INFOR...   \n19          MEC1T1  INGEGNERIA MECCANICA (L-9); INGEGNERIA MECCANI...   \n20          AMB1T1    INGEGNERIA PER L'AMBIENTE E IL TERRITORIO (L-7)   \n21          MTM1T1                 MATEMATICA PER L'INGEGNERIA (L-35)   \n22          TIM1T4  TECNOLOGIE PER L'INDUSTRIA MANIFATTURIERA (L-P03)   \n23    ARCHITETTURA                        ARCHITETTURA (ARCHITECTURE)   \n24          DESIGN                                             DESIGN   \n25  PIANIFICAZIONE                              PIANIFICAZIONE URBANA   \n26             NaN                                                NaN   \n27             NaN                                                NaN   \n28             NaN                                                NaN   \n29             NaN                                                NaN   \n30             NaN                                                NaN   \n31             NaN                                                NaN   \n32             NaN                                                NaN   \n\n                                                name1  \\\n0                 CIVIL AND ENVIRONMENTAL ENGINEERING   \n1   ELECTRONIC AND COMMUNICATIONS ENGINEERING (ING...   \n2                             INGEGNERIA AEROSPAZIALE   \n3                                INGEGNERIA BIOMEDICA   \n4                     INGEGNERIA CHIMICA E ALIMENTARE   \n5                                   INGEGNERIA CIVILE   \n6                            INGEGNERIA DEI MATERIALI   \n7   INGEGNERIA DEL CINEMA E DEI MEZZI DI COMUNICAZ...   \n8   INGEGNERIA DELL'AUTOVEICOLO (AUTOMOTIVE ENGINE...   \n9   INGEGNERIA DELLA PRODUZIONE INDUSTRIALE (Athlone)   \n10  INGEGNERIA DELLA PRODUZIONE INDUSTRIALE (Barce...   \n11    INGEGNERIA DELLA PRODUZIONE INDUSTRIALE (Nizza)   \n12                                   INGEGNERIA EDILE   \n13                               INGEGNERIA ELETTRICA   \n14                             INGEGNERIA ELETTRONICA   \n15                              INGEGNERIA ENERGETICA   \n16                                  INGEGNERIA FISICA   \n17                              INGEGNERIA GESTIONALE   \n18      INGEGNERIA INFORMATICA (COMPUTER ENGINEERING)   \n19      INGEGNERIA MECCANICA (MECHANICAL ENGINEERING)   \n20          INGEGNERIA PER L'AMBIENTE E IL TERRITORIO   \n21                        MATEMATICA PER L'INGEGNERIA   \n22                                                NaN   \n23                                       ARCHITETTURA   \n24                                             DESIGN   \n25                                     PIANIFICAZIONE   \n26                                                NaN   \n27                                                NaN   \n28                                                NaN   \n29                                                NaN   \n30                                                NaN   \n31                                                NaN   \n32                                                NaN   \n\n                                        name2  name3  name4  name5  \n0                                         NaN    NaN    NaN    NaN  \n1   ELECTRONIC AND COMMUNICATIONS ENGINEERING    NaN    NaN    NaN  \n2                                         NaN    NaN    NaN    NaN  \n3                                         NaN    NaN    NaN    NaN  \n4                                         NaN    NaN    NaN    NaN  \n5                                         NaN    NaN    NaN    NaN  \n6                                         NaN    NaN    NaN    NaN  \n7                                         NaN    NaN    NaN    NaN  \n8                 INGEGNERIA DELL'AUTOVEICOLO    NaN    NaN    NaN  \n9     INGEGNERIA DELLA PRODUZIONE INDUSTRIALE    NaN    NaN    NaN  \n10                                        NaN    NaN    NaN    NaN  \n11                                        NaN    NaN    NaN    NaN  \n12                                        NaN    NaN    NaN    NaN  \n13                                        NaN    NaN    NaN    NaN  \n14                                        NaN    NaN    NaN    NaN  \n15                                        NaN    NaN    NaN    NaN  \n16                                        NaN    NaN    NaN    NaN  \n17                                        NaN    NaN    NaN    NaN  \n18                     INGEGNERIA INFORMATICA    NaN    NaN    NaN  \n19                       INGEGNERIA MECCANICA    NaN    NaN    NaN  \n20                                        NaN    NaN    NaN    NaN  \n21                                        NaN    NaN    NaN    NaN  \n22                                        NaN    NaN    NaN    NaN  \n23                               Architettura    NaN    NaN    NaN  \n24                                     Design    NaN    NaN    NaN  \n25                             Pianificazione    NaN    NaN    NaN  \n26                                        NaN    NaN    NaN    NaN  \n27                                        NaN    NaN    NaN    NaN  \n28                                        NaN    NaN    NaN    NaN  \n29                                        NaN    NaN    NaN    NaN  \n30                                        NaN    NaN    NaN    NaN  \n31                                        NaN    NaN    NaN    NaN  \n32                                        NaN    NaN    NaN    NaN  ",
      "text/html": "<div>\n<style scoped>\n    .dataframe tbody tr th:only-of-type {\n        vertical-align: middle;\n    }\n\n    .dataframe tbody tr th {\n        vertical-align: top;\n    }\n\n    .dataframe thead th {\n        text-align: right;\n    }\n</style>\n<table border=\"1\" class=\"dataframe\">\n  <thead>\n    <tr style=\"text-align: right;\">\n      <th></th>\n      <th>code</th>\n      <th>name</th>\n      <th>name1</th>\n      <th>name2</th>\n      <th>name3</th>\n      <th>name4</th>\n      <th>name5</th>\n    </tr>\n  </thead>\n  <tbody>\n    <tr>\n      <th>0</th>\n      <td>CEE1T1</td>\n      <td>CIVIL AND ENVIRONMENTAL ENGINEERING (L-7)</td>\n      <td>CIVIL AND ENVIRONMENTAL ENGINEERING</td>\n      <td>NaN</td>\n      <td>NaN</td>\n      <td>NaN</td>\n      <td>NaN</td>\n    </tr>\n    <tr>\n      <th>1</th>\n      <td>ECE1T3</td>\n      <td>ELECTRONIC AND COMMUNICATIONS ENGINEERING (ING...</td>\n      <td>ELECTRONIC AND COMMUNICATIONS ENGINEERING (ING...</td>\n      <td>ELECTRONIC AND COMMUNICATIONS ENGINEERING</td>\n      <td>NaN</td>\n      <td>NaN</td>\n      <td>NaN</td>\n    </tr>\n    <tr>\n      <th>2</th>\n      <td>AER1T1</td>\n      <td>INGEGNERIA AEROSPAZIALE (L-9)</td>\n      <td>INGEGNERIA AEROSPAZIALE</td>\n      <td>NaN</td>\n      <td>NaN</td>\n      <td>NaN</td>\n      <td>NaN</td>\n    </tr>\n    <tr>\n      <th>3</th>\n      <td>BIO1T1</td>\n      <td>INGEGNERIA BIOMEDICA (L-9)</td>\n      <td>INGEGNERIA BIOMEDICA</td>\n      <td>NaN</td>\n      <td>NaN</td>\n      <td>NaN</td>\n      <td>NaN</td>\n    </tr>\n    <tr>\n      <th>4</th>\n      <td>CHI1T1</td>\n      <td>INGEGNERIA CHIMICA E ALIMENTARE (L-9)</td>\n      <td>INGEGNERIA CHIMICA E ALIMENTARE</td>\n      <td>NaN</td>\n      <td>NaN</td>\n      <td>NaN</td>\n      <td>NaN</td>\n    </tr>\n    <tr>\n      <th>5</th>\n      <td>CIV1T1</td>\n      <td>INGEGNERIA CIVILE (L-7)</td>\n      <td>INGEGNERIA CIVILE</td>\n      <td>NaN</td>\n      <td>NaN</td>\n      <td>NaN</td>\n      <td>NaN</td>\n    </tr>\n    <tr>\n      <th>6</th>\n      <td>MAT1T1</td>\n      <td>INGEGNERIA DEI MATERIALI (L-9)</td>\n      <td>INGEGNERIA DEI MATERIALI</td>\n      <td>NaN</td>\n      <td>NaN</td>\n      <td>NaN</td>\n      <td>NaN</td>\n    </tr>\n    <tr>\n      <th>7</th>\n      <td>CIN1T3</td>\n      <td>INGEGNERIA DEL CINEMA E DEI MEZZI DI COMUNICAZ...</td>\n      <td>INGEGNERIA DEL CINEMA E DEI MEZZI DI COMUNICAZ...</td>\n      <td>NaN</td>\n      <td>NaN</td>\n      <td>NaN</td>\n      <td>NaN</td>\n    </tr>\n    <tr>\n      <th>8</th>\n      <td>AUT1T1</td>\n      <td>INGEGNERIA DELL'AUTOVEICOLO (L-9); INGEGNERIA ...</td>\n      <td>INGEGNERIA DELL'AUTOVEICOLO (AUTOMOTIVE ENGINE...</td>\n      <td>INGEGNERIA DELL'AUTOVEICOLO</td>\n      <td>NaN</td>\n      <td>NaN</td>\n      <td>NaN</td>\n    </tr>\n    <tr>\n      <th>9</th>\n      <td>PRO1A1</td>\n      <td>INGEGNERIA DELLA PRODUZIONE INDUSTRIALE (L-9) ...</td>\n      <td>INGEGNERIA DELLA PRODUZIONE INDUSTRIALE (Athlone)</td>\n      <td>INGEGNERIA DELLA PRODUZIONE INDUSTRIALE</td>\n      <td>NaN</td>\n      <td>NaN</td>\n      <td>NaN</td>\n    </tr>\n    <tr>\n      <th>10</th>\n      <td>PRO1B1</td>\n      <td>INGEGNERIA DELLA PRODUZIONE INDUSTRIALE (L-9) ...</td>\n      <td>INGEGNERIA DELLA PRODUZIONE INDUSTRIALE (Barce...</td>\n      <td>NaN</td>\n      <td>NaN</td>\n      <td>NaN</td>\n      <td>NaN</td>\n    </tr>\n    <tr>\n      <th>11</th>\n      <td>PRO1N1</td>\n      <td>INGEGNERIA DELLA PRODUZIONE INDUSTRIALE (L-9) ...</td>\n      <td>INGEGNERIA DELLA PRODUZIONE INDUSTRIALE (Nizza)</td>\n      <td>NaN</td>\n      <td>NaN</td>\n      <td>NaN</td>\n      <td>NaN</td>\n    </tr>\n    <tr>\n      <th>12</th>\n      <td>EDI1T1</td>\n      <td>INGEGNERIA EDILE (L-23)</td>\n      <td>INGEGNERIA EDILE</td>\n      <td>NaN</td>\n      <td>NaN</td>\n      <td>NaN</td>\n      <td>NaN</td>\n    </tr>\n    <tr>\n      <th>13</th>\n      <td>ELT1T1</td>\n      <td>INGEGNERIA ELETTRICA (L-9)</td>\n      <td>INGEGNERIA ELETTRICA</td>\n      <td>NaN</td>\n      <td>NaN</td>\n      <td>NaN</td>\n      <td>NaN</td>\n    </tr>\n    <tr>\n      <th>14</th>\n      <td>ELN1T3</td>\n      <td>INGEGNERIA ELETTRONICA (L-8)</td>\n      <td>INGEGNERIA ELETTRONICA</td>\n      <td>NaN</td>\n      <td>NaN</td>\n      <td>NaN</td>\n      <td>NaN</td>\n    </tr>\n    <tr>\n      <th>15</th>\n      <td>ENE1T1</td>\n      <td>INGEGNERIA ENERGETICA (L-9)</td>\n      <td>INGEGNERIA ENERGETICA</td>\n      <td>NaN</td>\n      <td>NaN</td>\n      <td>NaN</td>\n      <td>NaN</td>\n    </tr>\n    <tr>\n      <th>16</th>\n      <td>FIS1T3</td>\n      <td>INGEGNERIA FISICA (L-8)</td>\n      <td>INGEGNERIA FISICA</td>\n      <td>NaN</td>\n      <td>NaN</td>\n      <td>NaN</td>\n      <td>NaN</td>\n    </tr>\n    <tr>\n      <th>17</th>\n      <td>GES1T4</td>\n      <td>INGEGNERIA GESTIONALE (L-8); INGEGNERIA GESTIO...</td>\n      <td>INGEGNERIA GESTIONALE</td>\n      <td>NaN</td>\n      <td>NaN</td>\n      <td>NaN</td>\n      <td>NaN</td>\n    </tr>\n    <tr>\n      <th>18</th>\n      <td>INF1T3</td>\n      <td>INGEGNERIA INFORMATICA (L-8); INGEGNERIA INFOR...</td>\n      <td>INGEGNERIA INFORMATICA (COMPUTER ENGINEERING)</td>\n      <td>INGEGNERIA INFORMATICA</td>\n      <td>NaN</td>\n      <td>NaN</td>\n      <td>NaN</td>\n    </tr>\n    <tr>\n      <th>19</th>\n      <td>MEC1T1</td>\n      <td>INGEGNERIA MECCANICA (L-9); INGEGNERIA MECCANI...</td>\n      <td>INGEGNERIA MECCANICA (MECHANICAL ENGINEERING)</td>\n      <td>INGEGNERIA MECCANICA</td>\n      <td>NaN</td>\n      <td>NaN</td>\n      <td>NaN</td>\n    </tr>\n    <tr>\n      <th>20</th>\n      <td>AMB1T1</td>\n      <td>INGEGNERIA PER L'AMBIENTE E IL TERRITORIO (L-7)</td>\n      <td>INGEGNERIA PER L'AMBIENTE E IL TERRITORIO</td>\n      <td>NaN</td>\n      <td>NaN</td>\n      <td>NaN</td>\n      <td>NaN</td>\n    </tr>\n    <tr>\n      <th>21</th>\n      <td>MTM1T1</td>\n      <td>MATEMATICA PER L'INGEGNERIA (L-35)</td>\n      <td>MATEMATICA PER L'INGEGNERIA</td>\n      <td>NaN</td>\n      <td>NaN</td>\n      <td>NaN</td>\n      <td>NaN</td>\n    </tr>\n    <tr>\n      <th>22</th>\n      <td>TIM1T4</td>\n      <td>TECNOLOGIE PER L'INDUSTRIA MANIFATTURIERA (L-P03)</td>\n      <td>NaN</td>\n      <td>NaN</td>\n      <td>NaN</td>\n      <td>NaN</td>\n      <td>NaN</td>\n    </tr>\n    <tr>\n      <th>23</th>\n      <td>ARCHITETTURA</td>\n      <td>ARCHITETTURA (ARCHITECTURE)</td>\n      <td>ARCHITETTURA</td>\n      <td>Architettura</td>\n      <td>NaN</td>\n      <td>NaN</td>\n      <td>NaN</td>\n    </tr>\n    <tr>\n      <th>24</th>\n      <td>DESIGN</td>\n      <td>DESIGN</td>\n      <td>DESIGN</td>\n      <td>Design</td>\n      <td>NaN</td>\n      <td>NaN</td>\n      <td>NaN</td>\n    </tr>\n    <tr>\n      <th>25</th>\n      <td>PIANIFICAZIONE</td>\n      <td>PIANIFICAZIONE URBANA</td>\n      <td>PIANIFICAZIONE</td>\n      <td>Pianificazione</td>\n      <td>NaN</td>\n      <td>NaN</td>\n      <td>NaN</td>\n    </tr>\n    <tr>\n      <th>26</th>\n      <td>NaN</td>\n      <td>NaN</td>\n      <td>NaN</td>\n      <td>NaN</td>\n      <td>NaN</td>\n      <td>NaN</td>\n      <td>NaN</td>\n    </tr>\n    <tr>\n      <th>27</th>\n      <td>NaN</td>\n      <td>NaN</td>\n      <td>NaN</td>\n      <td>NaN</td>\n      <td>NaN</td>\n      <td>NaN</td>\n      <td>NaN</td>\n    </tr>\n    <tr>\n      <th>28</th>\n      <td>NaN</td>\n      <td>NaN</td>\n      <td>NaN</td>\n      <td>NaN</td>\n      <td>NaN</td>\n      <td>NaN</td>\n      <td>NaN</td>\n    </tr>\n    <tr>\n      <th>29</th>\n      <td>NaN</td>\n      <td>NaN</td>\n      <td>NaN</td>\n      <td>NaN</td>\n      <td>NaN</td>\n      <td>NaN</td>\n      <td>NaN</td>\n    </tr>\n    <tr>\n      <th>30</th>\n      <td>NaN</td>\n      <td>NaN</td>\n      <td>NaN</td>\n      <td>NaN</td>\n      <td>NaN</td>\n      <td>NaN</td>\n      <td>NaN</td>\n    </tr>\n    <tr>\n      <th>31</th>\n      <td>NaN</td>\n      <td>NaN</td>\n      <td>NaN</td>\n      <td>NaN</td>\n      <td>NaN</td>\n      <td>NaN</td>\n      <td>NaN</td>\n    </tr>\n    <tr>\n      <th>32</th>\n      <td>NaN</td>\n      <td>NaN</td>\n      <td>NaN</td>\n      <td>NaN</td>\n      <td>NaN</td>\n      <td>NaN</td>\n      <td>NaN</td>\n    </tr>\n  </tbody>\n</table>\n</div>"
     },
     "execution_count": 42,
     "metadata": {},
     "output_type": "execute_result"
    }
   ],
   "source": [
    "df_names = pd.read_csv('./course-equivalence.csv', sep=\";\")\n",
    "df_names"
   ],
   "metadata": {
    "collapsed": false,
    "ExecuteTime": {
     "end_time": "2025-04-23T17:39:36.228945500Z",
     "start_time": "2025-04-23T17:39:36.221013300Z"
    }
   },
   "id": "2bead024c2a5ff"
  },
  {
   "cell_type": "code",
   "execution_count": 43,
   "outputs": [],
   "source": [
    "# read course equivalences\n",
    "df_names = pd.read_csv('./course-equivalence.csv', sep=\";\")\n",
    "modern_name = {}\n",
    "modern_name_list = {}\n",
    "\n",
    "for i, row in df_names.iterrows():\n",
    "    if isinstance(row['name'], str) and len(row['name']) > 3:\n",
    "        modern_name_list[row['code']] = row['name']\n",
    "        modern_name[row['name']] = row['code']\n",
    "        for j in range(1,6):\n",
    "            alt_name = row[f'name{j}']\n",
    "            if isinstance(alt_name, str) and len(alt_name) > 3:\n",
    "                modern_name[alt_name] = row['code']\n",
    "            \n",
    "with open('datasets/courses.json', 'w') as outfile:\n",
    "    json.dump(modern_name_list, outfile)"
   ],
   "metadata": {
    "collapsed": false,
    "ExecuteTime": {
     "end_time": "2025-04-23T17:39:36.236520600Z",
     "start_time": "2025-04-23T17:39:36.227944700Z"
    }
   },
   "id": "ba08ccc771330b1a"
  },
  {
   "cell_type": "code",
   "execution_count": 44,
   "outputs": [],
   "source": [
    "# df.to_csv(\"test.csv\", sep=\";\")"
   ],
   "metadata": {
    "collapsed": false,
    "ExecuteTime": {
     "end_time": "2025-04-23T17:39:36.242999300Z",
     "start_time": "2025-04-23T17:39:36.236520600Z"
    }
   },
   "id": "88ef2e0db5c68078"
  },
  {
   "cell_type": "code",
   "execution_count": 45,
   "id": "ca95816e",
   "metadata": {
    "ExecuteTime": {
     "end_time": "2025-04-23T17:39:37.186996700Z",
     "start_time": "2025-04-23T17:39:36.238998800Z"
    }
   },
   "outputs": [],
   "source": [
    "debug = None\n",
    "def rimpiazza_nome(old_name):\n",
    "    global debug\n",
    "    \n",
    "    debug = old_name\n",
    "    if old_name == \"Ingegneria\":\n",
    "        return old_name\n",
    "    if not isinstance(old_name, str):\n",
    "        return old_name\n",
    "    return modern_name[old_name]\n",
    "\n",
    "# replace course specif\n",
    "# rimpiazza i nomi dei corsi \"strani\" con un nome canonico\n",
    "for c in [\"course\", \"corso di immatricolazione\", \"corso unico\", \"corso assegnato\", \"corso prenotato\"]:\n",
    "    df[c] = df[c].apply(lambda x: rimpiazza_nome(x))\n",
    "    # df[c] = df[c].str.replace(\" \\(.+\",\"\", regex=True).str.strip()\n",
    "\n",
    "# set superset uppercase for consistency with other courses\n",
    "# i supercorsi sono DESIGN, INGEGNERIA, ARCHITETTURA, PIANIFICAZIONE\n",
    "df['supercorso'] = df['course'].str.upper()\n",
    "del df['course']"
   ]
  },
  {
   "cell_type": "code",
   "execution_count": 46,
   "id": "47b41e07",
   "metadata": {
    "ExecuteTime": {
     "end_time": "2025-04-23T17:39:52.796358500Z",
     "start_time": "2025-04-23T17:39:37.188037Z"
    }
   },
   "outputs": [
    {
     "data": {
      "text/plain": "882837"
     },
     "execution_count": 46,
     "metadata": {},
     "output_type": "execute_result"
    }
   ],
   "source": [
    "# esporto il tutto in formato sqlite, idoneo a fare estrazioni\n",
    "sqlitefile = f\"./intermediate_results/tilstat_{str(datetime.now()).replace(':','-')}.sqlite\"\n",
    "conn = sqlite3.connect(sqlitefile)\n",
    "df.to_sql('tilstat', conn, if_exists='replace', index=False)"
   ]
  },
  {
   "cell_type": "code",
   "execution_count": 47,
   "id": "4faf6aa3",
   "metadata": {
    "ExecuteTime": {
     "end_time": "2025-04-23T17:39:52.851627300Z",
     "start_time": "2025-04-23T17:39:52.797357700Z"
    }
   },
   "outputs": [],
   "source": [
    "sqlitefile = sorted(glob(f'./intermediate_results/tilstat_*.sqlite'), key=os.path.getmtime, reverse=True)[0]\n",
    "conn = sqlite3.connect(sqlitefile)"
   ]
  },
  {
   "cell_type": "code",
   "execution_count": 48,
   "id": "7ef48a90",
   "metadata": {
    "ExecuteTime": {
     "end_time": "2025-04-23T17:39:53.811747200Z",
     "start_time": "2025-04-23T17:39:52.835629600Z"
    }
   },
   "outputs": [],
   "source": [
    "# PARANOID CHECKS (ogni riga ha almeno un corso tra imma, unico e assegnato)\n",
    "\n",
    "cur = conn.cursor()\n",
    "cur.execute(\"\"\"\n",
    "    SELECT\n",
    "        (\"corso di immatricolazione\" IS NOT NULL +\n",
    "         \"corso unico\" IS NOT NULL +\n",
    "         \"corso assegnato\" IS NOT NULL) as chk,\n",
    "         count(*)\n",
    "    FROM tilstat\n",
    "    GROUP BY\n",
    "        chk \n",
    "\"\"\")\n",
    "assert cur.fetchall() == [(1,len(df))]"
   ]
  },
  {
   "cell_type": "code",
   "execution_count": 49,
   "id": "1bf6b3fe",
   "metadata": {
    "ExecuteTime": {
     "end_time": "2025-04-23T17:39:54.294106200Z",
     "start_time": "2025-04-23T17:39:53.812748300Z"
    }
   },
   "outputs": [
    {
     "data": {
      "text/plain": "[('ASSEGNATO',),\n ('LISTA DI ATTESA',),\n ('NON AMMESSO',),\n (\"RINUNCIA ALL'IMMATRICOLAZIONE\",),\n ('IMMATRICOLATO',),\n ('RINUNCIA DOPO IMMA',),\n ('RINUNCIA ALLA LISTA DI ATTESA',),\n (None,),\n ('NON AMMESSO  - IMMATRICOLAZIONI CHIUSE AI SENSI DELL’ART 8 PUNTO 6 del D.R. N. 122/2018',),\n ('NON AMMESSO - IMMATRICOLAZIONI CHIUSE AI SENSI DEL D.R. N. 1112/2019',),\n ('AMMESSA AD ANNI SUCCESSIVI AL PRIMO',),\n ('NON AMMESSO - GRADUATORIE CHIUSE',),\n ('NON AMMESSO: REQUISITI LINGUISTICI NON RISPETTATI',),\n ('PRENOTATO',),\n ('ASSEGNATO (**)',),\n ('PRENOTATO (**)',),\n ('NON AMMESSO  - IMMATRICOLAZIONI CHIUSE AI SENSI DELL’ART 9 PUNTO 4 del D.R. N. 121/2018',),\n ('NON AMMESSO - IMMATRICOLAZIONI CHIUSE AI SENSI DELL’ART 9 PUNTO 4 del D.R. N. 121/2018',),\n ('RINUNICA DOPO IMMA',),\n ('ANNULLAMENTO IMMATRICOLAZIONE',),\n ('IMMATRICOLAZIONE ANNULLATA',),\n ('RINUNCIA DOPO IMMATRICOLAZIONE',)]"
     },
     "execution_count": 49,
     "metadata": {},
     "output_type": "execute_result"
    }
   ],
   "source": [
    "# TIPOLOGIE ESITO\n",
    "\n",
    "cur = conn.cursor()\n",
    "cur.execute(\"\"\"\n",
    "    SELECT\n",
    "        distinct(esito)\n",
    "    FROM tilstat\n",
    "    \n",
    "\"\"\")\n",
    "#list(map(lambda x: x[0], cur.description)),\n",
    "cur.fetchall()"
   ]
  },
  {
   "cell_type": "code",
   "execution_count": 50,
   "outputs": [
    {
     "name": "stdout",
     "output_type": "stream",
     "text": [
      "[(2018,), (2019,), (2020,), (2021,), (2022,), (2023,), (2024,), (2025,)]\n",
      "[(2017,), (2018,), (2019,), (2020,), (2021,), (2022,), (2023,), (2024,), (7,), (14,), (21,), (24,), (29,), (4,), (12,), (19,), (26,), (6,), (13,), (20,), (23,), (28,), (3,), (11,), (25,), (5,), (10,), (17,)]\n"
     ]
    }
   ],
   "source": [
    "# ANNI\n",
    "\n",
    "cur = conn.cursor()\n",
    "cur.execute(\"\"\"\n",
    "    SELECT DISTINCT year FROM tilstat\n",
    "    \n",
    "\"\"\")\n",
    "#list(map(lambda x: x[0], cur.description)),\n",
    "print(cur.fetchall())\n",
    "\n",
    "cur = conn.cursor()\n",
    "cur.execute(\"\"\"\n",
    "    SELECT DISTINCT year FROM (SELECT\n",
    "        CAST(substr(date,1,4) as INTEGER) as year\n",
    "    FROM tilstat)\n",
    "    \n",
    "\"\"\")\n",
    "#list(map(lambda x: x[0], cur.description)),\n",
    "print(cur.fetchall())"
   ],
   "metadata": {
    "collapsed": false,
    "ExecuteTime": {
     "end_time": "2025-04-23T17:39:54.793547100Z",
     "start_time": "2025-04-23T17:39:54.299163200Z"
    }
   },
   "id": "c8f71cbaddb2bed4"
  },
  {
   "cell_type": "code",
   "execution_count": 51,
   "id": "5fbcae3b",
   "metadata": {
    "ExecuteTime": {
     "end_time": "2025-04-23T17:39:55.387985900Z",
     "start_time": "2025-04-23T17:39:54.766549500Z"
    }
   },
   "outputs": [],
   "source": [
    "# TILSTAT\n",
    "\n",
    "cur = conn.cursor()\n",
    "\n",
    "cur.execute(f\"\"\"\n",
    "    SELECT\n",
    "        COALESCE(\"corso unico\", \"corso assegnato\", \"corso prenotato\", \"supercorso\") as corso,\n",
    "        \n",
    "        /* grad_n <=> specific date in a year */\n",
    "        CAST(substr(date,9,2) as INTEGER) / 8 as week,\n",
    "        substr(date,6,2) as month,\n",
    "        year,\n",
    "        \n",
    "        MIN(grad_n) as first_scorr,\n",
    "        MAX(grad_n) as last_scorr,\n",
    "        COUNT(*) as people_n,\n",
    "        MIN(totale) as min_tot,\n",
    "        \n",
    "        COALESCE(\"user\", \"af user\") as matr,\n",
    "        \n",
    "        /* following star is a sqlite magic: can return all line of MIN value, to debug and stats purpose */ \n",
    "        *\n",
    "    FROM\n",
    "        tilstat as ts1\n",
    "    WHERE\n",
    "        /* select only taken students */\n",
    "        (\"esito\" LIKE \"ASSEGNATO\" OR\n",
    "        \"esito\" LIKE \"PRENOTATO\" OR\n",
    "        \"esito\" LIKE \"IMMATRICOLATO\") AND\n",
    "        \n",
    "        /* contig or not */\n",
    "        conting = 0 AND\n",
    "        \n",
    "        instr(matr, \"*\") = 0\n",
    "    GROUP BY\n",
    "        corso, year, month, week\n",
    "    HAVING\n",
    "        /* hide super-corso of alredy shown course */\n",
    "        corso <> \"INGEGNERIA\"\n",
    "    \n",
    "    /* this order prevent inversions in view */\n",
    "    ORDER BY\n",
    "        month, week\n",
    "    \n",
    "\"\"\")\n",
    "headers = list(map(lambda x: x[0], cur.description))\n",
    "out = [{h:v for h,v in zip(headers, row)} for row in cur.fetchall()]\n",
    "with open('datasets/tilstat.json', 'w') as outfile:\n",
    "    json.dump(out, outfile)"
   ]
  },
  {
   "cell_type": "code",
   "execution_count": 58,
   "outputs": [
    {
     "name": "stdout",
     "output_type": "stream",
     "text": [
      "Copiato datasets/tilstat.json in ./../../webapp/src/data/tilstat.json\n",
      "Copiato datasets/courses.json in ./../../webapp/src/data/courses.json\n"
     ]
    },
    {
     "ename": "FileNotFoundError",
     "evalue": "[WinError 2] Impossibile trovare il file specificato",
     "output_type": "error",
     "traceback": [
      "\u001B[31m---------------------------------------------------------------------------\u001B[39m",
      "\u001B[31mFileNotFoundError\u001B[39m                         Traceback (most recent call last)",
      "\u001B[36mCell\u001B[39m\u001B[36m \u001B[39m\u001B[32mIn[58]\u001B[39m\u001B[32m, line 21\u001B[39m\n\u001B[32m     19\u001B[39m \u001B[38;5;66;03m# Esegui il comando npm build\u001B[39;00m\n\u001B[32m     20\u001B[39m \u001B[38;5;28;01mtry\u001B[39;00m:\n\u001B[32m---> \u001B[39m\u001B[32m21\u001B[39m     \u001B[43msubprocess\u001B[49m\u001B[43m.\u001B[49m\u001B[43mrun\u001B[49m\u001B[43m(\u001B[49m\u001B[43m[\u001B[49m\u001B[33;43m'\u001B[39;49m\u001B[33;43mnpm\u001B[39;49m\u001B[33;43m'\u001B[39;49m\u001B[43m,\u001B[49m\u001B[43m \u001B[49m\u001B[33;43m'\u001B[39;49m\u001B[33;43mrun\u001B[39;49m\u001B[33;43m'\u001B[39;49m\u001B[43m,\u001B[49m\u001B[43m \u001B[49m\u001B[33;43m'\u001B[39;49m\u001B[33;43mbuild\u001B[39;49m\u001B[33;43m'\u001B[39;49m\u001B[43m]\u001B[49m\u001B[43m,\u001B[49m\u001B[43m \u001B[49m\u001B[43mcwd\u001B[49m\u001B[43m=\u001B[49m\u001B[33;43m'\u001B[39;49m\u001B[33;43m./../../webapp\u001B[39;49m\u001B[33;43m'\u001B[39;49m\u001B[43m,\u001B[49m\u001B[43m \u001B[49m\u001B[43mcheck\u001B[49m\u001B[43m=\u001B[49m\u001B[38;5;28;43;01mTrue\u001B[39;49;00m\u001B[43m)\u001B[49m\n\u001B[32m     22\u001B[39m     \u001B[38;5;28mprint\u001B[39m(\u001B[33m\"\u001B[39m\u001B[33mBuild completata con successo.\u001B[39m\u001B[33m\"\u001B[39m)\n\u001B[32m     23\u001B[39m \u001B[38;5;28;01mexcept\u001B[39;00m subprocess.CalledProcessError \u001B[38;5;28;01mas\u001B[39;00m e:\n",
      "\u001B[36mFile \u001B[39m\u001B[32mC:\\Python312\\Lib\\subprocess.py:548\u001B[39m, in \u001B[36mrun\u001B[39m\u001B[34m(input, capture_output, timeout, check, *popenargs, **kwargs)\u001B[39m\n\u001B[32m    545\u001B[39m     kwargs[\u001B[33m'\u001B[39m\u001B[33mstdout\u001B[39m\u001B[33m'\u001B[39m] = PIPE\n\u001B[32m    546\u001B[39m     kwargs[\u001B[33m'\u001B[39m\u001B[33mstderr\u001B[39m\u001B[33m'\u001B[39m] = PIPE\n\u001B[32m--> \u001B[39m\u001B[32m548\u001B[39m \u001B[38;5;28;01mwith\u001B[39;00m \u001B[43mPopen\u001B[49m\u001B[43m(\u001B[49m\u001B[43m*\u001B[49m\u001B[43mpopenargs\u001B[49m\u001B[43m,\u001B[49m\u001B[43m \u001B[49m\u001B[43m*\u001B[49m\u001B[43m*\u001B[49m\u001B[43mkwargs\u001B[49m\u001B[43m)\u001B[49m \u001B[38;5;28;01mas\u001B[39;00m process:\n\u001B[32m    549\u001B[39m     \u001B[38;5;28;01mtry\u001B[39;00m:\n\u001B[32m    550\u001B[39m         stdout, stderr = process.communicate(\u001B[38;5;28minput\u001B[39m, timeout=timeout)\n",
      "\u001B[36mFile \u001B[39m\u001B[32mC:\\Python312\\Lib\\subprocess.py:1026\u001B[39m, in \u001B[36mPopen.__init__\u001B[39m\u001B[34m(self, args, bufsize, executable, stdin, stdout, stderr, preexec_fn, close_fds, shell, cwd, env, universal_newlines, startupinfo, creationflags, restore_signals, start_new_session, pass_fds, user, group, extra_groups, encoding, errors, text, umask, pipesize, process_group)\u001B[39m\n\u001B[32m   1022\u001B[39m         \u001B[38;5;28;01mif\u001B[39;00m \u001B[38;5;28mself\u001B[39m.text_mode:\n\u001B[32m   1023\u001B[39m             \u001B[38;5;28mself\u001B[39m.stderr = io.TextIOWrapper(\u001B[38;5;28mself\u001B[39m.stderr,\n\u001B[32m   1024\u001B[39m                     encoding=encoding, errors=errors)\n\u001B[32m-> \u001B[39m\u001B[32m1026\u001B[39m     \u001B[38;5;28;43mself\u001B[39;49m\u001B[43m.\u001B[49m\u001B[43m_execute_child\u001B[49m\u001B[43m(\u001B[49m\u001B[43margs\u001B[49m\u001B[43m,\u001B[49m\u001B[43m \u001B[49m\u001B[43mexecutable\u001B[49m\u001B[43m,\u001B[49m\u001B[43m \u001B[49m\u001B[43mpreexec_fn\u001B[49m\u001B[43m,\u001B[49m\u001B[43m \u001B[49m\u001B[43mclose_fds\u001B[49m\u001B[43m,\u001B[49m\n\u001B[32m   1027\u001B[39m \u001B[43m                        \u001B[49m\u001B[43mpass_fds\u001B[49m\u001B[43m,\u001B[49m\u001B[43m \u001B[49m\u001B[43mcwd\u001B[49m\u001B[43m,\u001B[49m\u001B[43m \u001B[49m\u001B[43menv\u001B[49m\u001B[43m,\u001B[49m\n\u001B[32m   1028\u001B[39m \u001B[43m                        \u001B[49m\u001B[43mstartupinfo\u001B[49m\u001B[43m,\u001B[49m\u001B[43m \u001B[49m\u001B[43mcreationflags\u001B[49m\u001B[43m,\u001B[49m\u001B[43m \u001B[49m\u001B[43mshell\u001B[49m\u001B[43m,\u001B[49m\n\u001B[32m   1029\u001B[39m \u001B[43m                        \u001B[49m\u001B[43mp2cread\u001B[49m\u001B[43m,\u001B[49m\u001B[43m \u001B[49m\u001B[43mp2cwrite\u001B[49m\u001B[43m,\u001B[49m\n\u001B[32m   1030\u001B[39m \u001B[43m                        \u001B[49m\u001B[43mc2pread\u001B[49m\u001B[43m,\u001B[49m\u001B[43m \u001B[49m\u001B[43mc2pwrite\u001B[49m\u001B[43m,\u001B[49m\n\u001B[32m   1031\u001B[39m \u001B[43m                        \u001B[49m\u001B[43merrread\u001B[49m\u001B[43m,\u001B[49m\u001B[43m \u001B[49m\u001B[43merrwrite\u001B[49m\u001B[43m,\u001B[49m\n\u001B[32m   1032\u001B[39m \u001B[43m                        \u001B[49m\u001B[43mrestore_signals\u001B[49m\u001B[43m,\u001B[49m\n\u001B[32m   1033\u001B[39m \u001B[43m                        \u001B[49m\u001B[43mgid\u001B[49m\u001B[43m,\u001B[49m\u001B[43m \u001B[49m\u001B[43mgids\u001B[49m\u001B[43m,\u001B[49m\u001B[43m \u001B[49m\u001B[43muid\u001B[49m\u001B[43m,\u001B[49m\u001B[43m \u001B[49m\u001B[43mumask\u001B[49m\u001B[43m,\u001B[49m\n\u001B[32m   1034\u001B[39m \u001B[43m                        \u001B[49m\u001B[43mstart_new_session\u001B[49m\u001B[43m,\u001B[49m\u001B[43m \u001B[49m\u001B[43mprocess_group\u001B[49m\u001B[43m)\u001B[49m\n\u001B[32m   1035\u001B[39m \u001B[38;5;28;01mexcept\u001B[39;00m:\n\u001B[32m   1036\u001B[39m     \u001B[38;5;66;03m# Cleanup if the child failed starting.\u001B[39;00m\n\u001B[32m   1037\u001B[39m     \u001B[38;5;28;01mfor\u001B[39;00m f \u001B[38;5;129;01min\u001B[39;00m \u001B[38;5;28mfilter\u001B[39m(\u001B[38;5;28;01mNone\u001B[39;00m, (\u001B[38;5;28mself\u001B[39m.stdin, \u001B[38;5;28mself\u001B[39m.stdout, \u001B[38;5;28mself\u001B[39m.stderr)):\n",
      "\u001B[36mFile \u001B[39m\u001B[32mC:\\Python312\\Lib\\subprocess.py:1538\u001B[39m, in \u001B[36mPopen._execute_child\u001B[39m\u001B[34m(self, args, executable, preexec_fn, close_fds, pass_fds, cwd, env, startupinfo, creationflags, shell, p2cread, p2cwrite, c2pread, c2pwrite, errread, errwrite, unused_restore_signals, unused_gid, unused_gids, unused_uid, unused_umask, unused_start_new_session, unused_process_group)\u001B[39m\n\u001B[32m   1536\u001B[39m \u001B[38;5;66;03m# Start the process\u001B[39;00m\n\u001B[32m   1537\u001B[39m \u001B[38;5;28;01mtry\u001B[39;00m:\n\u001B[32m-> \u001B[39m\u001B[32m1538\u001B[39m     hp, ht, pid, tid = \u001B[43m_winapi\u001B[49m\u001B[43m.\u001B[49m\u001B[43mCreateProcess\u001B[49m\u001B[43m(\u001B[49m\u001B[43mexecutable\u001B[49m\u001B[43m,\u001B[49m\u001B[43m \u001B[49m\u001B[43margs\u001B[49m\u001B[43m,\u001B[49m\n\u001B[32m   1539\u001B[39m \u001B[43m                             \u001B[49m\u001B[38;5;66;43;03m# no special security\u001B[39;49;00m\n\u001B[32m   1540\u001B[39m \u001B[43m                             \u001B[49m\u001B[38;5;28;43;01mNone\u001B[39;49;00m\u001B[43m,\u001B[49m\u001B[43m \u001B[49m\u001B[38;5;28;43;01mNone\u001B[39;49;00m\u001B[43m,\u001B[49m\n\u001B[32m   1541\u001B[39m \u001B[43m                             \u001B[49m\u001B[38;5;28;43mint\u001B[39;49m\u001B[43m(\u001B[49m\u001B[38;5;129;43;01mnot\u001B[39;49;00m\u001B[43m \u001B[49m\u001B[43mclose_fds\u001B[49m\u001B[43m)\u001B[49m\u001B[43m,\u001B[49m\n\u001B[32m   1542\u001B[39m \u001B[43m                             \u001B[49m\u001B[43mcreationflags\u001B[49m\u001B[43m,\u001B[49m\n\u001B[32m   1543\u001B[39m \u001B[43m                             \u001B[49m\u001B[43menv\u001B[49m\u001B[43m,\u001B[49m\n\u001B[32m   1544\u001B[39m \u001B[43m                             \u001B[49m\u001B[43mcwd\u001B[49m\u001B[43m,\u001B[49m\n\u001B[32m   1545\u001B[39m \u001B[43m                             \u001B[49m\u001B[43mstartupinfo\u001B[49m\u001B[43m)\u001B[49m\n\u001B[32m   1546\u001B[39m \u001B[38;5;28;01mfinally\u001B[39;00m:\n\u001B[32m   1547\u001B[39m     \u001B[38;5;66;03m# Child is launched. Close the parent's copy of those pipe\u001B[39;00m\n\u001B[32m   1548\u001B[39m     \u001B[38;5;66;03m# handles that only the child should have open.  You need\u001B[39;00m\n\u001B[32m   (...)\u001B[39m\u001B[32m   1551\u001B[39m     \u001B[38;5;66;03m# pipe will not close when the child process exits and the\u001B[39;00m\n\u001B[32m   1552\u001B[39m     \u001B[38;5;66;03m# ReadFile will hang.\u001B[39;00m\n\u001B[32m   1553\u001B[39m     \u001B[38;5;28mself\u001B[39m._close_pipe_fds(p2cread, p2cwrite,\n\u001B[32m   1554\u001B[39m                          c2pread, c2pwrite,\n\u001B[32m   1555\u001B[39m                          errread, errwrite)\n",
      "\u001B[31mFileNotFoundError\u001B[39m: [WinError 2] Impossibile trovare il file specificato"
     ]
    }
   ],
   "source": [
    "import shutil\n",
    "import subprocess\n",
    "\n",
    "# Percorsi dei file da copiare\n",
    "source_tilstat = 'datasets/tilstat.json'\n",
    "source_courses = 'datasets/courses.json'\n",
    "\n",
    "# Percorsi di destinazione\n",
    "dest_tilstat = './../../webapp/src/data/tilstat.json'\n",
    "dest_courses = './../../webapp/src/data/courses.json'\n",
    "\n",
    "# Copia i file\n",
    "shutil.copyfile(source_tilstat, dest_tilstat)\n",
    "print(f\"Copiato {source_tilstat} in {dest_tilstat}\")\n",
    "\n",
    "shutil.copyfile(source_courses, dest_courses)\n",
    "print(f\"Copiato {source_courses} in {dest_courses}\")\n",
    "\n",
    "# # Esegui il comando npm build\n",
    "# try:\n",
    "#     subprocess.run(['npm', 'run', 'build'], cwd='./../../webapp', check=True)\n",
    "#     print(\"Build completata con successo.\")\n",
    "# except subprocess.CalledProcessError as e:\n",
    "#     print(f\"Errore durante la build: {e}\")"
   ],
   "metadata": {
    "collapsed": false,
    "ExecuteTime": {
     "end_time": "2025-04-23T18:05:44.836287700Z",
     "start_time": "2025-04-23T18:05:44.020793800Z"
    }
   },
   "id": "c1b5deb853ec82eb"
  },
  {
   "cell_type": "code",
   "execution_count": null,
   "outputs": [],
   "source": [],
   "metadata": {
    "collapsed": false
   },
   "id": "492807cafb3e94b1"
  },
  {
   "cell_type": "code",
   "execution_count": 52,
   "outputs": [
    {
     "name": "stdout",
     "output_type": "stream",
     "text": [
      "INGEGNERIA AEROSPAZIALE (L-9) \t 2018 \t 1\n",
      "INGEGNERIA AEROSPAZIALE (L-9) \t 2019 \t 1\n",
      "INGEGNERIA AEROSPAZIALE (L-9) \t 2020 \t 1\n",
      "INGEGNERIA AEROSPAZIALE (L-9) \t 2021 \t 1\n",
      "INGEGNERIA AEROSPAZIALE (L-9) \t 2022 \t 1\n",
      "INGEGNERIA AEROSPAZIALE (L-9) \t 2023 \t 1\n",
      "INGEGNERIA AEROSPAZIALE (L-9) \t 2024 \t 1\n",
      "INGEGNERIA AEROSPAZIALE (L-9) \t 2025 \t 1\n",
      "INGEGNERIA PER L'AMBIENTE E IL TERRITORIO (L-7) \t 2018 \t 1\n",
      "INGEGNERIA PER L'AMBIENTE E IL TERRITORIO (L-7) \t 2019 \t 1\n",
      "INGEGNERIA PER L'AMBIENTE E IL TERRITORIO (L-7) \t 2020 \t 1\n",
      "INGEGNERIA PER L'AMBIENTE E IL TERRITORIO (L-7) \t 2021 \t 1\n",
      "INGEGNERIA PER L'AMBIENTE E IL TERRITORIO (L-7) \t 2022 \t 1\n",
      "INGEGNERIA PER L'AMBIENTE E IL TERRITORIO (L-7) \t 2023 \t 1\n",
      "INGEGNERIA PER L'AMBIENTE E IL TERRITORIO (L-7) \t 2024 \t 1\n",
      "INGEGNERIA PER L'AMBIENTE E IL TERRITORIO (L-7) \t 2025 \t 1\n",
      "ARCHITETTURA (ARCHITECTURE) \t 2021 \t 1\n",
      "ARCHITETTURA (ARCHITECTURE) \t 2022 \t 1\n",
      "ARCHITETTURA (ARCHITECTURE) \t 2023 \t 1\n",
      "ARCHITETTURA (ARCHITECTURE) \t 2024 \t 1\n",
      "ARCHITETTURA (ARCHITECTURE) \t 2025 \t 1\n",
      "INGEGNERIA DELL'AUTOVEICOLO (L-9); INGEGNERIA DELL'AUTOVEICOLO (AUTOMOTIVE ENGINEERING) (L-9) \t 2018 \t 1\n",
      "INGEGNERIA DELL'AUTOVEICOLO (L-9); INGEGNERIA DELL'AUTOVEICOLO (AUTOMOTIVE ENGINEERING) (L-9) \t 2019 \t 1\n",
      "INGEGNERIA DELL'AUTOVEICOLO (L-9); INGEGNERIA DELL'AUTOVEICOLO (AUTOMOTIVE ENGINEERING) (L-9) \t 2020 \t 1\n",
      "INGEGNERIA DELL'AUTOVEICOLO (L-9); INGEGNERIA DELL'AUTOVEICOLO (AUTOMOTIVE ENGINEERING) (L-9) \t 2021 \t 1\n",
      "INGEGNERIA DELL'AUTOVEICOLO (L-9); INGEGNERIA DELL'AUTOVEICOLO (AUTOMOTIVE ENGINEERING) (L-9) \t 2022 \t 1\n",
      "INGEGNERIA DELL'AUTOVEICOLO (L-9); INGEGNERIA DELL'AUTOVEICOLO (AUTOMOTIVE ENGINEERING) (L-9) \t 2023 \t 1\n",
      "INGEGNERIA DELL'AUTOVEICOLO (L-9); INGEGNERIA DELL'AUTOVEICOLO (AUTOMOTIVE ENGINEERING) (L-9) \t 2024 \t 1\n",
      "INGEGNERIA DELL'AUTOVEICOLO (L-9); INGEGNERIA DELL'AUTOVEICOLO (AUTOMOTIVE ENGINEERING) (L-9) \t 2025 \t 1\n",
      "INGEGNERIA BIOMEDICA (L-9) \t 2018 \t 1\n",
      "INGEGNERIA BIOMEDICA (L-9) \t 2019 \t 1\n",
      "INGEGNERIA BIOMEDICA (L-9) \t 2020 \t 1\n",
      "INGEGNERIA BIOMEDICA (L-9) \t 2021 \t 1\n",
      "INGEGNERIA BIOMEDICA (L-9) \t 2022 \t 1\n",
      "INGEGNERIA BIOMEDICA (L-9) \t 2023 \t 1\n",
      "INGEGNERIA BIOMEDICA (L-9) \t 2024 \t 1\n",
      "INGEGNERIA BIOMEDICA (L-9) \t 2025 \t 1\n",
      "CIVIL AND ENVIRONMENTAL ENGINEERING (L-7) \t 2023 \t 1\n",
      "CIVIL AND ENVIRONMENTAL ENGINEERING (L-7) \t 2024 \t 1\n",
      "CIVIL AND ENVIRONMENTAL ENGINEERING (L-7) \t 2025 \t 1\n",
      "INGEGNERIA CHIMICA E ALIMENTARE (L-9) \t 2018 \t 1\n",
      "INGEGNERIA CHIMICA E ALIMENTARE (L-9) \t 2019 \t 1\n",
      "INGEGNERIA CHIMICA E ALIMENTARE (L-9) \t 2020 \t 1\n",
      "INGEGNERIA CHIMICA E ALIMENTARE (L-9) \t 2021 \t 1\n",
      "INGEGNERIA CHIMICA E ALIMENTARE (L-9) \t 2022 \t 1\n",
      "INGEGNERIA CHIMICA E ALIMENTARE (L-9) \t 2023 \t 1\n",
      "INGEGNERIA CHIMICA E ALIMENTARE (L-9) \t 2024 \t 1\n",
      "INGEGNERIA CHIMICA E ALIMENTARE (L-9) \t 2025 \t 1\n",
      "INGEGNERIA DEL CINEMA E DEI MEZZI DI COMUNICAZIONE (L-8) \t 2018 \t 1\n",
      "INGEGNERIA DEL CINEMA E DEI MEZZI DI COMUNICAZIONE (L-8) \t 2019 \t 1\n",
      "INGEGNERIA DEL CINEMA E DEI MEZZI DI COMUNICAZIONE (L-8) \t 2020 \t 1\n",
      "INGEGNERIA DEL CINEMA E DEI MEZZI DI COMUNICAZIONE (L-8) \t 2021 \t 1\n",
      "INGEGNERIA DEL CINEMA E DEI MEZZI DI COMUNICAZIONE (L-8) \t 2022 \t 1\n",
      "INGEGNERIA DEL CINEMA E DEI MEZZI DI COMUNICAZIONE (L-8) \t 2023 \t 1\n",
      "INGEGNERIA DEL CINEMA E DEI MEZZI DI COMUNICAZIONE (L-8) \t 2024 \t 1\n",
      "INGEGNERIA DEL CINEMA E DEI MEZZI DI COMUNICAZIONE (L-8) \t 2025 \t 1\n",
      "INGEGNERIA CIVILE (L-7) \t 2018 \t 1\n",
      "INGEGNERIA CIVILE (L-7) \t 2019 \t 1\n",
      "INGEGNERIA CIVILE (L-7) \t 2020 \t 1\n",
      "INGEGNERIA CIVILE (L-7) \t 2021 \t 1\n",
      "INGEGNERIA CIVILE (L-7) \t 2022 \t 1\n",
      "INGEGNERIA CIVILE (L-7) \t 2023 \t 1\n",
      "INGEGNERIA CIVILE (L-7) \t 2024 \t 1\n",
      "INGEGNERIA CIVILE (L-7) \t 2025 \t 1\n",
      "DESIGN \t 2018 \t 1\n",
      "DESIGN \t 2019 \t 1\n",
      "DESIGN \t 2020 \t 1\n",
      "DESIGN \t 2021 \t 1\n",
      "DESIGN \t 2022 \t 1\n",
      "DESIGN \t 2023 \t 1\n",
      "DESIGN \t 2024 \t 1\n",
      "DESIGN \t 2025 \t 1\n",
      "ELECTRONIC AND COMMUNICATIONS ENGINEERING (INGEGNERIA ELETTRONICA E DELLE COMUNICAZIONI) (L-8) \t 2018 \t 1\n",
      "ELECTRONIC AND COMMUNICATIONS ENGINEERING (INGEGNERIA ELETTRONICA E DELLE COMUNICAZIONI) (L-8) \t 2019 \t 1\n",
      "ELECTRONIC AND COMMUNICATIONS ENGINEERING (INGEGNERIA ELETTRONICA E DELLE COMUNICAZIONI) (L-8) \t 2020 \t 1\n",
      "ELECTRONIC AND COMMUNICATIONS ENGINEERING (INGEGNERIA ELETTRONICA E DELLE COMUNICAZIONI) (L-8) \t 2021 \t 1\n",
      "ELECTRONIC AND COMMUNICATIONS ENGINEERING (INGEGNERIA ELETTRONICA E DELLE COMUNICAZIONI) (L-8) \t 2022 \t 1\n",
      "ELECTRONIC AND COMMUNICATIONS ENGINEERING (INGEGNERIA ELETTRONICA E DELLE COMUNICAZIONI) (L-8) \t 2023 \t 1\n",
      "ELECTRONIC AND COMMUNICATIONS ENGINEERING (INGEGNERIA ELETTRONICA E DELLE COMUNICAZIONI) (L-8) \t 2024 \t 1\n",
      "ELECTRONIC AND COMMUNICATIONS ENGINEERING (INGEGNERIA ELETTRONICA E DELLE COMUNICAZIONI) (L-8) \t 2025 \t 1\n",
      "INGEGNERIA EDILE (L-23) \t 2018 \t 1\n",
      "INGEGNERIA EDILE (L-23) \t 2019 \t 1\n",
      "INGEGNERIA EDILE (L-23) \t 2020 \t 1\n",
      "INGEGNERIA EDILE (L-23) \t 2021 \t 1\n",
      "INGEGNERIA EDILE (L-23) \t 2022 \t 1\n",
      "INGEGNERIA EDILE (L-23) \t 2023 \t 1\n",
      "INGEGNERIA EDILE (L-23) \t 2024 \t 1\n",
      "INGEGNERIA EDILE (L-23) \t 2025 \t 1\n",
      "INGEGNERIA ELETTRONICA (L-8) \t 2018 \t 1\n",
      "INGEGNERIA ELETTRONICA (L-8) \t 2019 \t 1\n",
      "INGEGNERIA ELETTRONICA (L-8) \t 2020 \t 1\n",
      "INGEGNERIA ELETTRONICA (L-8) \t 2021 \t 1\n",
      "INGEGNERIA ELETTRONICA (L-8) \t 2022 \t 1\n",
      "INGEGNERIA ELETTRONICA (L-8) \t 2023 \t 1\n",
      "INGEGNERIA ELETTRONICA (L-8) \t 2024 \t 1\n",
      "INGEGNERIA ELETTRONICA (L-8) \t 2025 \t 1\n",
      "INGEGNERIA ELETTRICA (L-9) \t 2018 \t 1\n",
      "INGEGNERIA ELETTRICA (L-9) \t 2019 \t 1\n",
      "INGEGNERIA ELETTRICA (L-9) \t 2020 \t 1\n",
      "INGEGNERIA ELETTRICA (L-9) \t 2021 \t 1\n",
      "INGEGNERIA ELETTRICA (L-9) \t 2022 \t 1\n",
      "INGEGNERIA ELETTRICA (L-9) \t 2023 \t 1\n",
      "INGEGNERIA ELETTRICA (L-9) \t 2024 \t 1\n",
      "INGEGNERIA ELETTRICA (L-9) \t 2025 \t 1\n",
      "INGEGNERIA ENERGETICA (L-9) \t 2018 \t 1\n",
      "INGEGNERIA ENERGETICA (L-9) \t 2019 \t 1\n",
      "INGEGNERIA ENERGETICA (L-9) \t 2020 \t 1\n",
      "INGEGNERIA ENERGETICA (L-9) \t 2021 \t 1\n",
      "INGEGNERIA ENERGETICA (L-9) \t 2022 \t 1\n",
      "INGEGNERIA ENERGETICA (L-9) \t 2023 \t 1\n",
      "INGEGNERIA ENERGETICA (L-9) \t 2024 \t 1\n",
      "INGEGNERIA ENERGETICA (L-9) \t 2025 \t 1\n",
      "INGEGNERIA FISICA (L-8) \t 2018 \t 1\n",
      "INGEGNERIA FISICA (L-8) \t 2019 \t 1\n",
      "INGEGNERIA FISICA (L-8) \t 2020 \t 1\n",
      "INGEGNERIA FISICA (L-8) \t 2021 \t 1\n",
      "INGEGNERIA FISICA (L-8) \t 2022 \t 1\n",
      "INGEGNERIA FISICA (L-8) \t 2023 \t 1\n",
      "INGEGNERIA FISICA (L-8) \t 2024 \t 1\n",
      "INGEGNERIA FISICA (L-8) \t 2025 \t 1\n",
      "INGEGNERIA GESTIONALE (L-8); INGEGNERIA GESTIONALE (L-9) \t 2018 \t 1\n",
      "INGEGNERIA GESTIONALE (L-8); INGEGNERIA GESTIONALE (L-9) \t 2019 \t 1\n",
      "INGEGNERIA GESTIONALE (L-8); INGEGNERIA GESTIONALE (L-9) \t 2020 \t 1\n",
      "INGEGNERIA GESTIONALE (L-8); INGEGNERIA GESTIONALE (L-9) \t 2021 \t 1\n",
      "INGEGNERIA GESTIONALE (L-8); INGEGNERIA GESTIONALE (L-9) \t 2022 \t 1\n",
      "INGEGNERIA GESTIONALE (L-8); INGEGNERIA GESTIONALE (L-9) \t 2023 \t 1\n",
      "INGEGNERIA GESTIONALE (L-8); INGEGNERIA GESTIONALE (L-9) \t 2024 \t 1\n",
      "INGEGNERIA GESTIONALE (L-8); INGEGNERIA GESTIONALE (L-9) \t 2025 \t 1\n",
      "INGEGNERIA INFORMATICA (L-8); INGEGNERIA INFORMATICA (COMPUTER ENGINEERING) (L-8) \t 2018 \t 1\n",
      "INGEGNERIA INFORMATICA (L-8); INGEGNERIA INFORMATICA (COMPUTER ENGINEERING) (L-8) \t 2019 \t 1\n",
      "INGEGNERIA INFORMATICA (L-8); INGEGNERIA INFORMATICA (COMPUTER ENGINEERING) (L-8) \t 2020 \t 1\n",
      "INGEGNERIA INFORMATICA (L-8); INGEGNERIA INFORMATICA (COMPUTER ENGINEERING) (L-8) \t 2021 \t 1\n",
      "INGEGNERIA INFORMATICA (L-8); INGEGNERIA INFORMATICA (COMPUTER ENGINEERING) (L-8) \t 2022 \t 1\n",
      "INGEGNERIA INFORMATICA (L-8); INGEGNERIA INFORMATICA (COMPUTER ENGINEERING) (L-8) \t 2023 \t 1\n",
      "INGEGNERIA INFORMATICA (L-8); INGEGNERIA INFORMATICA (COMPUTER ENGINEERING) (L-8) \t 2024 \t 1\n",
      "INGEGNERIA INFORMATICA (L-8); INGEGNERIA INFORMATICA (COMPUTER ENGINEERING) (L-8) \t 2025 \t 1\n",
      "INGEGNERIA DEI MATERIALI (L-9) \t 2018 \t 1\n",
      "INGEGNERIA DEI MATERIALI (L-9) \t 2019 \t 1\n",
      "INGEGNERIA DEI MATERIALI (L-9) \t 2020 \t 1\n",
      "INGEGNERIA DEI MATERIALI (L-9) \t 2021 \t 1\n",
      "INGEGNERIA DEI MATERIALI (L-9) \t 2022 \t 1\n",
      "INGEGNERIA DEI MATERIALI (L-9) \t 2023 \t 1\n",
      "INGEGNERIA DEI MATERIALI (L-9) \t 2024 \t 1\n",
      "INGEGNERIA DEI MATERIALI (L-9) \t 2025 \t 1\n",
      "INGEGNERIA MECCANICA (L-9); INGEGNERIA MECCANICA (MECHANICAL ENGINEERING) (L-9) \t 2018 \t 1\n",
      "INGEGNERIA MECCANICA (L-9); INGEGNERIA MECCANICA (MECHANICAL ENGINEERING) (L-9) \t 2019 \t 1\n",
      "INGEGNERIA MECCANICA (L-9); INGEGNERIA MECCANICA (MECHANICAL ENGINEERING) (L-9) \t 2020 \t 1\n",
      "INGEGNERIA MECCANICA (L-9); INGEGNERIA MECCANICA (MECHANICAL ENGINEERING) (L-9) \t 2021 \t 1\n",
      "INGEGNERIA MECCANICA (L-9); INGEGNERIA MECCANICA (MECHANICAL ENGINEERING) (L-9) \t 2022 \t 1\n",
      "INGEGNERIA MECCANICA (L-9); INGEGNERIA MECCANICA (MECHANICAL ENGINEERING) (L-9) \t 2023 \t 1\n",
      "INGEGNERIA MECCANICA (L-9); INGEGNERIA MECCANICA (MECHANICAL ENGINEERING) (L-9) \t 2024 \t 1\n",
      "INGEGNERIA MECCANICA (L-9); INGEGNERIA MECCANICA (MECHANICAL ENGINEERING) (L-9) \t 2025 \t 1\n",
      "MATEMATICA PER L'INGEGNERIA (L-35) \t 2018 \t 1\n",
      "MATEMATICA PER L'INGEGNERIA (L-35) \t 2019 \t 1\n",
      "MATEMATICA PER L'INGEGNERIA (L-35) \t 2020 \t 1\n",
      "MATEMATICA PER L'INGEGNERIA (L-35) \t 2021 \t 1\n",
      "MATEMATICA PER L'INGEGNERIA (L-35) \t 2022 \t 1\n",
      "MATEMATICA PER L'INGEGNERIA (L-35) \t 2023 \t 1\n",
      "MATEMATICA PER L'INGEGNERIA (L-35) \t 2024 \t 1\n",
      "MATEMATICA PER L'INGEGNERIA (L-35) \t 2025 \t 1\n",
      "PIANIFICAZIONE URBANA \t 2018 \t 1\n",
      "PIANIFICAZIONE URBANA \t 2019 \t 1\n",
      "PIANIFICAZIONE URBANA \t 2020 \t 1\n",
      "PIANIFICAZIONE URBANA \t 2021 \t 1\n",
      "PIANIFICAZIONE URBANA \t 2022 \t 1\n",
      "PIANIFICAZIONE URBANA \t 2023 \t 1\n",
      "PIANIFICAZIONE URBANA \t 2024 \t 1\n",
      "PIANIFICAZIONE URBANA \t 2025 \t 1\n",
      "INGEGNERIA DELLA PRODUZIONE INDUSTRIALE (L-9) - TORINO/ATHLONE \t 2018 \t 1\n",
      "INGEGNERIA DELLA PRODUZIONE INDUSTRIALE (L-9) - TORINO/ATHLONE \t 2019 \t 1\n",
      "INGEGNERIA DELLA PRODUZIONE INDUSTRIALE (L-9) - TORINO/ATHLONE \t 2020 \t 1\n",
      "INGEGNERIA DELLA PRODUZIONE INDUSTRIALE (L-9) - TORINO/ATHLONE \t 2021 \t 1\n",
      "INGEGNERIA DELLA PRODUZIONE INDUSTRIALE (L-9) - TORINO/ATHLONE \t 2022 \t 1\n",
      "INGEGNERIA DELLA PRODUZIONE INDUSTRIALE (L-9) - TORINO/ATHLONE \t 2023 \t 1\n",
      "INGEGNERIA DELLA PRODUZIONE INDUSTRIALE (L-9) - TORINO/ATHLONE \t 2024 \t 1\n",
      "INGEGNERIA DELLA PRODUZIONE INDUSTRIALE (L-9) - TORINO/ATHLONE \t 2025 \t 1\n",
      "INGEGNERIA DELLA PRODUZIONE INDUSTRIALE (L-9) - TORINO/BARCELLONA \t 2018 \t 1\n",
      "INGEGNERIA DELLA PRODUZIONE INDUSTRIALE (L-9) - TORINO/BARCELLONA \t 2019 \t 1\n",
      "INGEGNERIA DELLA PRODUZIONE INDUSTRIALE (L-9) - TORINO/BARCELLONA \t 2020 \t 1\n",
      "INGEGNERIA DELLA PRODUZIONE INDUSTRIALE (L-9) - TORINO/BARCELLONA \t 2021 \t 1\n",
      "INGEGNERIA DELLA PRODUZIONE INDUSTRIALE (L-9) - TORINO/BARCELLONA \t 2022 \t 1\n",
      "INGEGNERIA DELLA PRODUZIONE INDUSTRIALE (L-9) - TORINO/BARCELLONA \t 2023 \t 1\n",
      "INGEGNERIA DELLA PRODUZIONE INDUSTRIALE (L-9) - TORINO/BARCELLONA \t 2024 \t 1\n",
      "INGEGNERIA DELLA PRODUZIONE INDUSTRIALE (L-9) - TORINO/BARCELLONA \t 2025 \t 1\n",
      "INGEGNERIA DELLA PRODUZIONE INDUSTRIALE (L-9) - TORINO/NIZZA \t 2018 \t 1\n",
      "INGEGNERIA DELLA PRODUZIONE INDUSTRIALE (L-9) - TORINO/NIZZA \t 2019 \t 1\n",
      "INGEGNERIA DELLA PRODUZIONE INDUSTRIALE (L-9) - TORINO/NIZZA \t 2020 \t 1\n",
      "INGEGNERIA DELLA PRODUZIONE INDUSTRIALE (L-9) - TORINO/NIZZA \t 2021 \t 1\n",
      "INGEGNERIA DELLA PRODUZIONE INDUSTRIALE (L-9) - TORINO/NIZZA \t 2022 \t 1\n",
      "INGEGNERIA DELLA PRODUZIONE INDUSTRIALE (L-9) - TORINO/NIZZA \t 2023 \t 1\n",
      "INGEGNERIA DELLA PRODUZIONE INDUSTRIALE (L-9) - TORINO/NIZZA \t 2024 \t 1\n",
      "INGEGNERIA DELLA PRODUZIONE INDUSTRIALE (L-9) - TORINO/NIZZA \t 2025 \t 1\n",
      "TECNOLOGIE PER L'INDUSTRIA MANIFATTURIERA (L-P03) \t 2025 \t 1\n"
     ]
    }
   ],
   "source": [
    "# TILSTAT\n",
    "\n",
    "cur = conn.cursor()\n",
    "\n",
    "cur.execute(f\"\"\"\n",
    "    SELECT corso, year, COUNT(distinct matr) as cnt FROM\n",
    "    \n",
    "    (SELECT\n",
    "        year,\n",
    "        COALESCE(\"corso unico\", \"corso assegnato\", \"corso prenotato\", \"supercorso\") as corso,\n",
    "        COALESCE(\"user\", \"af user\") as matr\n",
    "    FROM\n",
    "        tilstat as ts1)\n",
    "        \n",
    "    GROUP BY corso, year\n",
    "    HAVING\n",
    "        /* hide super-corso of alredy shown course */\n",
    "    corso <> \"INGEGNERIA\"\n",
    "\"\"\")\n",
    "headers = list(map(lambda x: x[0], cur.description))\n",
    "out = [{h:v for h,v in zip(headers, row)} for row in cur.fetchall()]\n",
    "for row in out:\n",
    "    print(modern_name_list[row['corso']],\"\\t\", row['year'], \"\\t\", row['cnt'])"
   ],
   "metadata": {
    "collapsed": false,
    "ExecuteTime": {
     "end_time": "2025-04-23T17:39:55.827132700Z",
     "start_time": "2025-04-23T17:39:55.388985800Z"
    }
   },
   "id": "594694573371b8c8"
  },
  {
   "cell_type": "code",
   "execution_count": 53,
   "outputs": [
    {
     "data": {
      "text/plain": "[{'year': 2018, 'cnt': 1},\n {'year': 2019, 'cnt': 1},\n {'year': 2020, 'cnt': 1},\n {'year': 2021, 'cnt': 1},\n {'year': 2022, 'cnt': 1},\n {'year': 2023, 'cnt': 1},\n {'year': 2024, 'cnt': 1},\n {'year': 2025, 'cnt': 1}]"
     },
     "execution_count": 53,
     "metadata": {},
     "output_type": "execute_result"
    }
   ],
   "source": [
    "# TILSTAT\n",
    "\n",
    "cur = conn.cursor()\n",
    "\n",
    "cur.execute(f\"\"\"\n",
    "    SELECT year, COUNT(distinct matr) as cnt FROM\n",
    "    \n",
    "    (SELECT\n",
    "        year,\n",
    "        COALESCE(\"user\", \"af user\") as matr\n",
    "    FROM\n",
    "        tilstat as ts1)\n",
    "        \n",
    "    GROUP BY year\n",
    "\"\"\")\n",
    "headers = list(map(lambda x: x[0], cur.description))\n",
    "out = [{h:v for h,v in zip(headers, row)} for row in cur.fetchall()]\n",
    "out"
   ],
   "metadata": {
    "collapsed": false,
    "ExecuteTime": {
     "end_time": "2025-04-23T17:39:56.147843900Z",
     "start_time": "2025-04-23T17:39:55.824675700Z"
    }
   },
   "id": "baf066acfd6239f1"
  },
  {
   "cell_type": "code",
   "execution_count": 53,
   "outputs": [],
   "source": [],
   "metadata": {
    "collapsed": false,
    "ExecuteTime": {
     "end_time": "2025-04-23T17:39:56.149121100Z",
     "start_time": "2025-04-23T17:39:56.146735900Z"
    }
   },
   "id": "85a843995d60eb59"
  },
  {
   "cell_type": "code",
   "execution_count": 54,
   "id": "9c7d0565",
   "metadata": {
    "ExecuteTime": {
     "end_time": "2025-04-23T17:39:56.155629600Z",
     "start_time": "2025-04-23T17:39:56.150120100Z"
    }
   },
   "outputs": [
    {
     "data": {
      "text/plain": "[{'year': 2018, 'cnt': 1},\n {'year': 2019, 'cnt': 1},\n {'year': 2020, 'cnt': 1},\n {'year': 2021, 'cnt': 1},\n {'year': 2022, 'cnt': 1},\n {'year': 2023, 'cnt': 1},\n {'year': 2024, 'cnt': 1},\n {'year': 2025, 'cnt': 1}]"
     },
     "execution_count": 54,
     "metadata": {},
     "output_type": "execute_result"
    }
   ],
   "source": [
    "out"
   ]
  },
  {
   "cell_type": "code",
   "execution_count": 55,
   "id": "632099c8",
   "metadata": {
    "ExecuteTime": {
     "end_time": "2025-04-23T17:39:56.350274500Z",
     "start_time": "2025-04-23T17:39:56.154629600Z"
    }
   },
   "outputs": [
    {
     "data": {
      "text/plain": "['ARCHITETTURA',\n 'AMB1T1',\n 'MTM1T1',\n 'INF1T3',\n 'BIO1T1',\n 'GES1T4',\n 'AER1T1',\n 'ELN1T3',\n 'CHI1T1',\n 'MEC1T1',\n 'PRO1B1',\n 'EDI1T1',\n 'CIN1T3',\n 'MAT1T1',\n 'ENE1T1',\n 'AUT1T1',\n 'ECE1T3',\n 'FIS1T3',\n 'PRO1A1',\n 'PRO1N1',\n 'ELT1T1',\n 'CIV1T1',\n 'CEE1T1',\n 'TIM1T4']"
     },
     "execution_count": 55,
     "metadata": {},
     "output_type": "execute_result"
    }
   ],
   "source": [
    "# TILSTAT\n",
    "\n",
    "cur = conn.cursor()\n",
    "\n",
    "cur.execute(f\"\"\"\n",
    "    SELECT\n",
    "        DISTINCT( COALESCE(\n",
    "            \"corso unico\",\n",
    "            \"corso assegnato\",\n",
    "            \"corso prenotato\",\n",
    "            \"corso di immatricolazione\")) as corso\n",
    "    FROM tilstat\n",
    "    \n",
    "\"\"\")\n",
    "headers = list(map(lambda x: x[0], cur.description))\n",
    "courses = [c[0] for c in cur.fetchall() if c[0] is not None]\n",
    "courses\n"
   ]
  },
  {
   "cell_type": "code",
   "execution_count": 57,
   "id": "81cc1f9e",
   "metadata": {
    "ExecuteTime": {
     "end_time": "2025-04-23T17:40:34.594802600Z",
     "start_time": "2025-04-23T17:40:30.375870200Z"
    }
   },
   "outputs": [
    {
     "data": {
      "text/plain": "[{'corso': 'AMB1T1', 'matr': 'user', 'year': 2022, 'count': 395},\n {'corso': 'AMB1T1', 'matr': 'user', 'year': 2023, 'count': 287},\n {'corso': 'AMB1T1', 'matr': 'user', 'year': 2024, 'count': 303},\n {'corso': 'AMB1T1', 'matr': 'user', 'year': 2025, 'count': 179},\n {'corso': 'MTM1T1', 'matr': 'user', 'year': 2022, 'count': 357},\n {'corso': 'MTM1T1', 'matr': 'user', 'year': 2023, 'count': 316},\n {'corso': 'MTM1T1', 'matr': 'user', 'year': 2024, 'count': 355},\n {'corso': 'MTM1T1', 'matr': 'user', 'year': 2025, 'count': 311},\n {'corso': 'INF1T3', 'matr': 'user', 'year': 2022, 'count': 1497},\n {'corso': 'INF1T3', 'matr': 'user', 'year': 2023, 'count': 1319},\n {'corso': 'INF1T3', 'matr': 'user', 'year': 2024, 'count': 1306},\n {'corso': 'INF1T3', 'matr': 'user', 'year': 2025, 'count': 1276},\n {'corso': 'BIO1T1', 'matr': 'user', 'year': 2022, 'count': 1442},\n {'corso': 'BIO1T1', 'matr': 'user', 'year': 2023, 'count': 1101},\n {'corso': 'BIO1T1', 'matr': 'user', 'year': 2024, 'count': 1072},\n {'corso': 'BIO1T1', 'matr': 'user', 'year': 2025, 'count': 919},\n {'corso': 'GES1T4', 'matr': 'user', 'year': 2022, 'count': 1447},\n {'corso': 'GES1T4', 'matr': 'user', 'year': 2023, 'count': 1158},\n {'corso': 'GES1T4', 'matr': 'user', 'year': 2024, 'count': 1372},\n {'corso': 'GES1T4', 'matr': 'user', 'year': 2025, 'count': 1012},\n {'corso': 'AER1T1', 'matr': 'user', 'year': 2022, 'count': 1488},\n {'corso': 'AER1T1', 'matr': 'user', 'year': 2023, 'count': 1269},\n {'corso': 'AER1T1', 'matr': 'user', 'year': 2024, 'count': 1230},\n {'corso': 'AER1T1', 'matr': 'user', 'year': 2025, 'count': 1083},\n {'corso': 'ELN1T3', 'matr': 'user', 'year': 2022, 'count': 625},\n {'corso': 'ELN1T3', 'matr': 'user', 'year': 2023, 'count': 457},\n {'corso': 'ELN1T3', 'matr': 'user', 'year': 2024, 'count': 488},\n {'corso': 'ELN1T3', 'matr': 'user', 'year': 2025, 'count': 367},\n {'corso': 'CHI1T1', 'matr': 'user', 'year': 2022, 'count': 468},\n {'corso': 'CHI1T1', 'matr': 'user', 'year': 2023, 'count': 360},\n {'corso': 'CHI1T1', 'matr': 'user', 'year': 2024, 'count': 347},\n {'corso': 'CHI1T1', 'matr': 'user', 'year': 2025, 'count': 262},\n {'corso': 'MEC1T1', 'matr': 'user', 'year': 2022, 'count': 1553},\n {'corso': 'MEC1T1', 'matr': 'user', 'year': 2023, 'count': 1323},\n {'corso': 'MEC1T1', 'matr': 'user', 'year': 2024, 'count': 1344},\n {'corso': 'MEC1T1', 'matr': 'user', 'year': 2025, 'count': 1163},\n {'corso': 'PRO1B1', 'matr': 'user', 'year': 2022, 'count': 134},\n {'corso': 'PRO1B1', 'matr': 'user', 'year': 2023, 'count': 157},\n {'corso': 'PRO1B1', 'matr': 'user', 'year': 2024, 'count': 223},\n {'corso': 'PRO1B1', 'matr': 'user', 'year': 2025, 'count': 144},\n {'corso': 'EDI1T1', 'matr': 'user', 'year': 2022, 'count': 316},\n {'corso': 'EDI1T1', 'matr': 'user', 'year': 2023, 'count': 254},\n {'corso': 'EDI1T1', 'matr': 'user', 'year': 2024, 'count': 368},\n {'corso': 'EDI1T1', 'matr': 'user', 'year': 2025, 'count': 204},\n {'corso': 'CIN1T3', 'matr': 'user', 'year': 2022, 'count': 385},\n {'corso': 'CIN1T3', 'matr': 'user', 'year': 2023, 'count': 308},\n {'corso': 'CIN1T3', 'matr': 'user', 'year': 2024, 'count': 343},\n {'corso': 'CIN1T3', 'matr': 'user', 'year': 2025, 'count': 239},\n {'corso': 'MAT1T1', 'matr': 'user', 'year': 2022, 'count': 272},\n {'corso': 'MAT1T1', 'matr': 'user', 'year': 2023, 'count': 209},\n {'corso': 'MAT1T1', 'matr': 'user', 'year': 2024, 'count': 240},\n {'corso': 'MAT1T1', 'matr': 'user', 'year': 2025, 'count': 114},\n {'corso': 'ENE1T1', 'matr': 'user', 'year': 2022, 'count': 742},\n {'corso': 'ENE1T1', 'matr': 'user', 'year': 2023, 'count': 605},\n {'corso': 'ENE1T1', 'matr': 'user', 'year': 2024, 'count': 646},\n {'corso': 'ENE1T1', 'matr': 'user', 'year': 2025, 'count': 375},\n {'corso': 'AUT1T1', 'matr': 'user', 'year': 2022, 'count': 628},\n {'corso': 'AUT1T1', 'matr': 'user', 'year': 2023, 'count': 570},\n {'corso': 'AUT1T1', 'matr': 'user', 'year': 2024, 'count': 609},\n {'corso': 'AUT1T1', 'matr': 'user', 'year': 2025, 'count': 557},\n {'corso': 'ECE1T3', 'matr': 'user', 'year': 2022, 'count': 96},\n {'corso': 'ECE1T3', 'matr': 'user', 'year': 2023, 'count': 101},\n {'corso': 'ECE1T3', 'matr': 'user', 'year': 2024, 'count': 90},\n {'corso': 'ECE1T3', 'matr': 'user', 'year': 2025, 'count': 107},\n {'corso': 'FIS1T3', 'matr': 'user', 'year': 2022, 'count': 438},\n {'corso': 'FIS1T3', 'matr': 'user', 'year': 2023, 'count': 348},\n {'corso': 'FIS1T3', 'matr': 'user', 'year': 2024, 'count': 334},\n {'corso': 'FIS1T3', 'matr': 'user', 'year': 2025, 'count': 312},\n {'corso': 'PRO1A1', 'matr': 'user', 'year': 2022, 'count': 128},\n {'corso': 'PRO1A1', 'matr': 'user', 'year': 2023, 'count': 120},\n {'corso': 'PRO1A1', 'matr': 'user', 'year': 2024, 'count': 181},\n {'corso': 'PRO1A1', 'matr': 'user', 'year': 2025, 'count': 96},\n {'corso': 'PRO1N1', 'matr': 'user', 'year': 2022, 'count': 79},\n {'corso': 'PRO1N1', 'matr': 'user', 'year': 2023, 'count': 75},\n {'corso': 'PRO1N1', 'matr': 'user', 'year': 2024, 'count': 112},\n {'corso': 'PRO1N1', 'matr': 'user', 'year': 2025, 'count': 55},\n {'corso': 'ELT1T1', 'matr': 'user', 'year': 2022, 'count': 348},\n {'corso': 'ELT1T1', 'matr': 'user', 'year': 2023, 'count': 248},\n {'corso': 'ELT1T1', 'matr': 'user', 'year': 2024, 'count': 270},\n {'corso': 'ELT1T1', 'matr': 'user', 'year': 2025, 'count': 180},\n {'corso': 'CIV1T1', 'matr': 'user', 'year': 2022, 'count': 391},\n {'corso': 'CIV1T1', 'matr': 'user', 'year': 2023, 'count': 301},\n {'corso': 'CIV1T1', 'matr': 'user', 'year': 2024, 'count': 403},\n {'corso': 'CIV1T1', 'matr': 'user', 'year': 2025, 'count': 276},\n {'corso': 'CEE1T1', 'matr': 'user', 'year': 2023, 'count': 35},\n {'corso': 'CEE1T1', 'matr': 'user', 'year': 2024, 'count': 62},\n {'corso': 'CEE1T1', 'matr': 'user', 'year': 2025, 'count': 87},\n {'corso': 'TIM1T4', 'matr': 'user', 'year': 2025, 'count': 66}]"
     },
     "execution_count": 57,
     "metadata": {},
     "output_type": "execute_result"
    }
   ],
   "source": [
    "# TILSTAT HOF\n",
    "\n",
    "out = []\n",
    "\n",
    "for c in courses:\n",
    "    cur = conn.cursor()\n",
    "    cur.execute(f\"\"\"\n",
    "        SELECT\n",
    "            COALESCE(\n",
    "                \"corso/i in lista di attesa\",\n",
    "                \"corsi in lista di attesa\",\n",
    "                \"corso unico\",\n",
    "                \"corso assegnato\",\n",
    "                \"corso prenotato\",\n",
    "                \"supercorso\"\n",
    "            ) as corso,\n",
    "            COALESCE(\"user\", \"af user\") as matr,\n",
    "            year,\n",
    "            COUNT(*) as count\n",
    "        FROM\n",
    "            tilstat\n",
    "        WHERE      \n",
    "            /* contig or not */\n",
    "            conting = 0 AND\n",
    "\n",
    "            /* remove special matr */\n",
    "            instr(matr, \"*\") = 0 AND\n",
    "\n",
    "            grad_n = 0 AND\n",
    "            corso LIKE \"%{c}%\"\n",
    "\n",
    "        GROUP BY\n",
    "            year\n",
    "\n",
    "    \"\"\")\n",
    "    headers = list(map(lambda x: x[0], cur.description))\n",
    "    out += [{h:v for h,v in zip(headers, row)} for row in cur.fetchall()]\n",
    "    \n",
    "with open('datasets/tilstathof.json', 'w') as outfile:\n",
    "    json.dump(out, outfile)\n",
    "out"
   ]
  },
  {
   "cell_type": "code",
   "execution_count": null,
   "id": "81016468",
   "metadata": {
    "ExecuteTime": {
     "start_time": "2025-04-23T17:40:00.279031200Z"
    }
   },
   "outputs": [],
   "source": [
    "# COMPLESSITA'\n",
    "\n",
    "cur = conn.cursor()\n",
    "cur.execute(f\"\"\"\n",
    "        \n",
    "    SELECT\n",
    "        year,\n",
    "        count(*) as cnt,\n",
    "        avg(mt) as avg,\n",
    "        AVG(mt*mt) - AVG(mt)*AVG(mt) as variance\n",
    "    FROM\n",
    "        (\n",
    "        SELECT\n",
    "            year,\n",
    "            COALESCE(\"user\", \"af user\") as matr,\n",
    "            COALESCE(\n",
    "                \"corso di immatricolazione\",\n",
    "                \"corso unico\",\n",
    "                \"corso assegnato\",\n",
    "                \"corso prenotato\",\n",
    "                \"supercorso\"\n",
    "            ) as corso,\n",
    "            \n",
    "            /*\n",
    "                This aggregation is arbitrary. For students applies only one rank the\n",
    "                results is the same with evrey aggregation. For other, i choose simply take the maximum.\n",
    "                With avg the results wont change a lot.\n",
    "            */\n",
    "            MAX(totale) as mt \n",
    "        FROM\n",
    "            tilstat\n",
    "        WHERE\n",
    "            esito LIKE \"%IMMATRICOLATO%\"\n",
    "            AND corso LIKE \"%AEROSPAZIALE%\"\n",
    "            /*esito NOT LIKE \"%RINUNCIA%\" and esito NOT LIKE \"%ATTESA%\"*/\n",
    "        GROUP BY \n",
    "            year, matr\n",
    "        )\n",
    "    GROUP BY \n",
    "        year\n",
    "\n",
    "\"\"\")\n",
    "headers = list(map(lambda x: x[0], cur.description))\n",
    "out = [{h:v for h,v in zip(headers, row)} for row in cur.fetchall()]\n",
    "\n",
    "# with open('tilstatquart.json', 'w') as outfile:\n",
    "#     json.dump(out, outfile)\n",
    "out[:100]"
   ]
  },
  {
   "cell_type": "code",
   "execution_count": null,
   "id": "290bf9ca",
   "metadata": {
    "ExecuteTime": {
     "start_time": "2025-04-23T17:40:00.281032Z"
    }
   },
   "outputs": [],
   "source": [
    "# {'year': 2022,\n",
    "#   'cnt': 9227,\n",
    "#   'avg': 48.51357149920639,\n",
    "#   'variance': 348.15130310044333}]"
   ]
  },
  {
   "cell_type": "code",
   "execution_count": null,
   "id": "06259382",
   "metadata": {
    "ExecuteTime": {
     "end_time": "2025-04-23T17:40:00.287031900Z",
     "start_time": "2025-04-23T17:40:00.285031400Z"
    }
   },
   "outputs": [],
   "source": [
    "# COMPLESSITA'\n",
    "\n",
    "cur = conn.cursor()\n",
    "cur.execute(f\"\"\"\n",
    "        \n",
    "    SELECT\n",
    "        year,\n",
    "        count(*) as cnt,\n",
    "        avg(totale) as mean,\n",
    "        (AVG(totale*totale) - AVG(totale)*AVG(totale)) as std,\n",
    "        (esito LIKE \"%IMMATRICOLATO%\") as preso\n",
    "    FROM\n",
    "    \n",
    "        (\n",
    "        SELECT\n",
    "           COALESCE(\n",
    "                \"corso di immatricolazione\",\n",
    "                \"corso unico\",\n",
    "                \"corso assegnato\",\n",
    "                \"corso prenotato\",\n",
    "                \"supercorso\"\n",
    "            ) as corso,\n",
    "            COALESCE(\"user\", \"af user\") as matr, year, uri,totale, esito,\n",
    "            max(grad_n)\n",
    "        FROM\n",
    "            tilstat\n",
    "        WHERE      \n",
    "           1\n",
    "        GROUP BY \n",
    "            year, corso, matr\n",
    "        HAVING\n",
    "            esito NOT LIKE \"%RINUNCIA\" or 1\n",
    "        )\n",
    "    \n",
    "    group by year\n",
    "    /*GROUP BY year , preso\n",
    "    having preso = 1*/\n",
    "\n",
    "\"\"\")\n",
    "headers = list(map(lambda x: x[0], cur.description))\n",
    "out = [{h:v for h,v in zip(headers, row)} for row in cur.fetchall()]\n",
    "\n",
    "# with open('tilstatquart.json', 'w') as outfile:\n",
    "#     json.dump(out, outfile)\n",
    "out[:100]"
   ]
  },
  {
   "cell_type": "code",
   "execution_count": null,
   "id": "6154a2f3",
   "metadata": {
    "ExecuteTime": {
     "start_time": "2025-04-23T17:40:00.285031400Z"
    }
   },
   "outputs": [],
   "source": [
    "# # PARANOID CHECKS\n",
    "\n",
    "# cur = conn.cursor()\n",
    "# cur.execute(\"\"\"\n",
    "#     SELECT\n",
    "#         date, uri, count(*)\n",
    "#     FROM tilstat\n",
    "#     WHERE\n",
    "#         (\n",
    "#          \"course\" == \"Ingegneria\" AND\n",
    "         \n",
    "#          \"corso di immatricolazione\" IS NULL AND\n",
    "#          \"corso unico\" IS NULL AND\n",
    "#          \"corso assegnato\" IS NULL AND\n",
    "#          \"corso prenotato\" IS NULL AND\n",
    "#          \"corsi in lista di attesa\" IS NULL AND\n",
    "         \n",
    "#          \"esito\" NOT LIKE \"NON AMMESSO%\" AND\n",
    "#          \"esito\" NOT LIKE \"RINUNCIA ALL'IMMATRICOLAZIONE%\" AND\n",
    "#          \"esito\" NOT LIKE \"RINUNCIA ALLA LISTA DI ATTESA%\" AND \n",
    "#          \"esito\" NOT LIKE \"RINUNCIA DOPO IMMA%\"\n",
    "#          )\n",
    "#     GROUP BY date\n",
    "    \n",
    "# \"\"\")\n",
    "# list(map(lambda x: x[0], cur.description)), cur.fetchall()"
   ]
  },
  {
   "cell_type": "code",
   "execution_count": null,
   "id": "151284f1",
   "metadata": {
    "ExecuteTime": {
     "start_time": "2025-04-23T17:40:00.285031400Z"
    }
   },
   "outputs": [],
   "source": [
    "cur = conn.cursor()\n",
    "cur.execute(\"\"\"\n",
    "    SELECT * FROM tilstat \n",
    "\"\"\")\n",
    "list(map(lambda x: x[0], cur.description))"
   ]
  },
  {
   "cell_type": "code",
   "execution_count": null,
   "id": "d358c2e4",
   "metadata": {
    "ExecuteTime": {
     "start_time": "2025-04-23T17:40:00.294031400Z"
    }
   },
   "outputs": [],
   "source": []
  },
  {
   "cell_type": "code",
   "execution_count": null,
   "id": "1e5e5c2a",
   "metadata": {
    "ExecuteTime": {
     "end_time": "2025-04-23T17:40:00.296031200Z",
     "start_time": "2025-04-23T17:40:00.294031400Z"
    }
   },
   "outputs": [],
   "source": []
  },
  {
   "cell_type": "code",
   "execution_count": null,
   "id": "1955e4b4",
   "metadata": {
    "ExecuteTime": {
     "start_time": "2025-04-23T17:40:00.294031400Z"
    }
   },
   "outputs": [],
   "source": []
  },
  {
   "cell_type": "code",
   "execution_count": null,
   "id": "1f136c09",
   "metadata": {
    "ExecuteTime": {
     "start_time": "2025-04-23T17:40:00.294031400Z"
    }
   },
   "outputs": [],
   "source": []
  },
  {
   "cell_type": "raw",
   "id": "b3c8312d",
   "metadata": {},
   "source": []
  },
  {
   "cell_type": "code",
   "execution_count": null,
   "id": "3e179478",
   "metadata": {
    "ExecuteTime": {
     "start_time": "2025-04-23T17:40:00.295031400Z"
    }
   },
   "outputs": [],
   "source": []
  },
  {
   "cell_type": "code",
   "execution_count": null,
   "id": "40ff7ff3",
   "metadata": {
    "ExecuteTime": {
     "start_time": "2025-04-23T17:40:00.296031200Z"
    }
   },
   "outputs": [],
   "source": []
  },
  {
   "cell_type": "code",
   "execution_count": null,
   "id": "d8556abe",
   "metadata": {
    "ExecuteTime": {
     "start_time": "2025-04-23T17:40:00.296031200Z"
    }
   },
   "outputs": [],
   "source": []
  },
  {
   "cell_type": "code",
   "execution_count": null,
   "id": "9a9cd787",
   "metadata": {
    "ExecuteTime": {
     "start_time": "2025-04-23T17:40:00.296031200Z"
    }
   },
   "outputs": [],
   "source": []
  },
  {
   "cell_type": "code",
   "execution_count": null,
   "id": "169b3278",
   "metadata": {
    "ExecuteTime": {
     "start_time": "2025-04-23T17:40:00.298031200Z"
    }
   },
   "outputs": [],
   "source": []
  },
  {
   "cell_type": "code",
   "execution_count": null,
   "id": "a497c14e",
   "metadata": {
    "ExecuteTime": {
     "start_time": "2025-04-23T17:40:00.298031200Z"
    }
   },
   "outputs": [],
   "source": []
  },
  {
   "cell_type": "code",
   "execution_count": null,
   "id": "5f31db71",
   "metadata": {
    "ExecuteTime": {
     "start_time": "2025-04-23T17:40:00.298031200Z"
    }
   },
   "outputs": [],
   "source": []
  },
  {
   "cell_type": "code",
   "execution_count": null,
   "id": "aed0ca10",
   "metadata": {
    "ExecuteTime": {
     "start_time": "2025-04-23T17:40:00.298031200Z"
    }
   },
   "outputs": [],
   "source": [
    "#\n",
    "\n",
    "\n",
    "\n",
    "\n",
    "\n",
    "\n",
    "\n",
    "\n",
    "\n",
    "\n",
    "\n",
    "\n",
    "\n",
    "\n",
    "\n",
    "\n",
    "\n",
    "\n",
    "\n",
    "\n",
    "\n",
    "\n",
    "\n",
    "\n",
    "\n",
    "\n",
    "\n",
    "\n",
    "\n",
    "\n",
    "\n",
    "\n",
    "\n",
    "\n",
    "\n",
    "\n",
    "\n",
    "\n",
    "\n",
    "\n",
    "\n",
    "\n",
    "\n",
    "\n",
    "\n",
    "\n",
    "\n"
   ]
  }
 ],
 "metadata": {
  "kernelspec": {
   "display_name": "Python 3 (ipykernel)",
   "language": "python",
   "name": "python3"
  },
  "language_info": {
   "codemirror_mode": {
    "name": "ipython",
    "version": 3
   },
   "file_extension": ".py",
   "mimetype": "text/x-python",
   "name": "python",
   "nbconvert_exporter": "python",
   "pygments_lexer": "ipython3",
   "version": "3.8.6"
  }
 },
 "nbformat": 4,
 "nbformat_minor": 5
}
